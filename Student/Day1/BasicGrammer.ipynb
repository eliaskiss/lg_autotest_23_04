{
 "cells": [
  {
   "cell_type": "markdown",
   "id": "65dde282",
   "metadata": {},
   "source": [
    "### https://www.geeksforgeeks.org/python-programming-language/?ref=lbp"
   ]
  },
  {
   "cell_type": "markdown",
   "id": "5bb14fea",
   "metadata": {},
   "source": [
    "### Quotation in Python"
   ]
  },
  {
   "cell_type": "code",
   "execution_count": 1,
   "id": "add1879c",
   "metadata": {},
   "outputs": [
    {
     "data": {
      "text/plain": [
       "'Hello World'"
      ]
     },
     "execution_count": 1,
     "metadata": {},
     "output_type": "execute_result"
    }
   ],
   "source": [
    "string = 'Hello World'\n",
    "string"
   ]
  },
  {
   "cell_type": "code",
   "execution_count": 2,
   "id": "45130dd7",
   "metadata": {},
   "outputs": [
    {
     "data": {
      "text/plain": [
       "'Hello World'"
      ]
     },
     "execution_count": 2,
     "metadata": {},
     "output_type": "execute_result"
    }
   ],
   "source": [
    "string = \"Hello World\"\n",
    "string"
   ]
  },
  {
   "cell_type": "code",
   "execution_count": 3,
   "id": "05975117",
   "metadata": {},
   "outputs": [
    {
     "data": {
      "text/plain": [
       "'Hello World'"
      ]
     },
     "execution_count": 3,
     "metadata": {},
     "output_type": "execute_result"
    }
   ],
   "source": [
    "string = '''Hello World'''\n",
    "string"
   ]
  },
  {
   "cell_type": "code",
   "execution_count": 4,
   "id": "4184d665",
   "metadata": {},
   "outputs": [
    {
     "ename": "SyntaxError",
     "evalue": "EOL while scanning string literal (1117298684.py, line 1)",
     "output_type": "error",
     "traceback": [
      "\u001b[1;36m  Input \u001b[1;32mIn [4]\u001b[1;36m\u001b[0m\n\u001b[1;33m    string = \"Hello\u001b[0m\n\u001b[1;37m                   ^\u001b[0m\n\u001b[1;31mSyntaxError\u001b[0m\u001b[1;31m:\u001b[0m EOL while scanning string literal\n"
     ]
    }
   ],
   "source": [
    "string = \"Hello\n",
    "World\"\n",
    "string"
   ]
  },
  {
   "cell_type": "code",
   "execution_count": null,
   "id": "f52946cd",
   "metadata": {},
   "outputs": [],
   "source": [
    "string = \"Hello \\\n",
    "World\"\n",
    "string"
   ]
  },
  {
   "cell_type": "code",
   "execution_count": null,
   "id": "92d80f71",
   "metadata": {},
   "outputs": [],
   "source": [
    "string = '''Hello\n",
    "World'''\n",
    "string"
   ]
  },
  {
   "cell_type": "code",
   "execution_count": null,
   "id": "c2fcaedf",
   "metadata": {},
   "outputs": [],
   "source": [
    "print(string)"
   ]
  },
  {
   "cell_type": "code",
   "execution_count": null,
   "id": "9f2dab0e",
   "metadata": {},
   "outputs": [],
   "source": [
    "a = 'Hello'\n",
    "b = ' World'\n",
    "print(a)\n",
    "print(b)"
   ]
  },
  {
   "cell_type": "code",
   "execution_count": null,
   "id": "32d8521d",
   "metadata": {},
   "outputs": [],
   "source": [
    "a = 'Hello'\n",
    "b = ' World'\n",
    "print(a, end='')\n",
    "print(b)"
   ]
  },
  {
   "cell_type": "code",
   "execution_count": null,
   "id": "2df4a83e",
   "metadata": {},
   "outputs": [],
   "source": [
    "print(a, b)"
   ]
  },
  {
   "cell_type": "code",
   "execution_count": null,
   "id": "0cde53df",
   "metadata": {},
   "outputs": [],
   "source": [
    "string = \"'Hello World'\"\n",
    "print(string)\n",
    "string"
   ]
  },
  {
   "cell_type": "markdown",
   "id": "92591e09",
   "metadata": {},
   "source": [
    "### Comments in Python"
   ]
  },
  {
   "cell_type": "code",
   "execution_count": null,
   "id": "4b560e7a",
   "metadata": {},
   "outputs": [],
   "source": [
    "# This is comment"
   ]
  },
  {
   "cell_type": "code",
   "execution_count": null,
   "id": "0db728fa",
   "metadata": {},
   "outputs": [],
   "source": [
    "'''\n",
    "This\n",
    "is\n",
    "multiline\n",
    "comments\n",
    "'''"
   ]
  },
  {
   "cell_type": "markdown",
   "id": "ad06ab80",
   "metadata": {},
   "source": [
    "### Standard Data Types"
   ]
  },
  {
   "cell_type": "markdown",
   "id": "848bdc40",
   "metadata": {},
   "source": [
    "<img src=\"https://media.geeksforgeeks.org/wp-content/uploads/20191224133121/Python-data-structure1.jpg\" width=500>"
   ]
  },
  {
   "cell_type": "markdown",
   "id": "fe8ac16e",
   "metadata": {},
   "source": [
    "### Boolean"
   ]
  },
  {
   "cell_type": "code",
   "execution_count": 5,
   "id": "f0f15d01",
   "metadata": {},
   "outputs": [
    {
     "name": "stdout",
     "output_type": "stream",
     "text": [
      "<class 'bool'>\n",
      "False\n"
     ]
    }
   ],
   "source": [
    "a = (10 == 20)\n",
    "print(type(a))\n",
    "print(a)"
   ]
  },
  {
   "cell_type": "code",
   "execution_count": 6,
   "id": "df4e43ce",
   "metadata": {},
   "outputs": [
    {
     "ename": "SyntaxError",
     "evalue": "invalid syntax (698296086.py, line 1)",
     "output_type": "error",
     "traceback": [
      "\u001b[1;36m  Input \u001b[1;32mIn [6]\u001b[1;36m\u001b[0m\n\u001b[1;33m    true false True  False\u001b[0m\n\u001b[1;37m         ^\u001b[0m\n\u001b[1;31mSyntaxError\u001b[0m\u001b[1;31m:\u001b[0m invalid syntax\n"
     ]
    }
   ],
   "source": [
    "true false True  False"
   ]
  },
  {
   "cell_type": "code",
   "execution_count": null,
   "id": "589e72f9",
   "metadata": {},
   "outputs": [],
   "source": [
    "a = ('abc' == 'def')\n",
    "a"
   ]
  },
  {
   "cell_type": "code",
   "execution_count": null,
   "id": "788db924",
   "metadata": {},
   "outputs": [],
   "source": [
    "True + True"
   ]
  },
  {
   "cell_type": "code",
   "execution_count": null,
   "id": "b59b0808",
   "metadata": {},
   "outputs": [],
   "source": [
    "True * False"
   ]
  },
  {
   "cell_type": "code",
   "execution_count": null,
   "id": "5cfa2867",
   "metadata": {},
   "outputs": [],
   "source": [
    "True * True"
   ]
  },
  {
   "cell_type": "code",
   "execution_count": null,
   "id": "b1c38a23",
   "metadata": {},
   "outputs": [],
   "source": [
    "False * False"
   ]
  },
  {
   "cell_type": "code",
   "execution_count": null,
   "id": "df82dd19",
   "metadata": {},
   "outputs": [],
   "source": [
    "True/False"
   ]
  },
  {
   "cell_type": "markdown",
   "id": "d10fb012",
   "metadata": {},
   "source": [
    "### Numbers"
   ]
  },
  {
   "cell_type": "markdown",
   "id": "0b1e7910",
   "metadata": {},
   "source": [
    "#### Integer (정수형)"
   ]
  },
  {
   "cell_type": "code",
   "execution_count": null,
   "id": "622612c8",
   "metadata": {},
   "outputs": [],
   "source": [
    "a = 100\n",
    "type(a)"
   ]
  },
  {
   "cell_type": "markdown",
   "id": "b1d4a907",
   "metadata": {},
   "source": [
    "##### Float (실수형)"
   ]
  },
  {
   "cell_type": "code",
   "execution_count": 7,
   "id": "2f568132",
   "metadata": {},
   "outputs": [
    {
     "data": {
      "text/plain": [
       "float"
      ]
     },
     "execution_count": 7,
     "metadata": {},
     "output_type": "execute_result"
    }
   ],
   "source": [
    "a = 100.0\n",
    "type(a)"
   ]
  },
  {
   "cell_type": "markdown",
   "id": "3d7e4cc9",
   "metadata": {},
   "source": [
    "#### 지수표현"
   ]
  },
  {
   "cell_type": "markdown",
   "id": "9daef7f6",
   "metadata": {},
   "source": [
    "123 * 10<sup>2</sup> = 123 * 100"
   ]
  },
  {
   "cell_type": "code",
   "execution_count": 8,
   "id": "751f6113",
   "metadata": {},
   "outputs": [
    {
     "data": {
      "text/plain": [
       "12300.0"
      ]
     },
     "execution_count": 8,
     "metadata": {},
     "output_type": "execute_result"
    }
   ],
   "source": [
    "a = 123e2\n",
    "a"
   ]
  },
  {
   "cell_type": "markdown",
   "id": "22b3cde2",
   "metadata": {},
   "source": [
    "123 * 10<sup>-2</sup> = 123 * 0.01"
   ]
  },
  {
   "cell_type": "code",
   "execution_count": 9,
   "id": "e4f3694f",
   "metadata": {},
   "outputs": [
    {
     "data": {
      "text/plain": [
       "1.23"
      ]
     },
     "execution_count": 9,
     "metadata": {},
     "output_type": "execute_result"
    }
   ],
   "source": [
    "a = 123e-2\n",
    "a"
   ]
  },
  {
   "cell_type": "markdown",
   "id": "8abbe2fb",
   "metadata": {},
   "source": [
    "#### 이진법 표현"
   ]
  },
  {
   "cell_type": "code",
   "execution_count": 10,
   "id": "dafce741",
   "metadata": {},
   "outputs": [
    {
     "data": {
      "text/plain": [
       "'0b1010'"
      ]
     },
     "execution_count": 10,
     "metadata": {},
     "output_type": "execute_result"
    }
   ],
   "source": [
    "bin(10)"
   ]
  },
  {
   "cell_type": "code",
   "execution_count": 11,
   "id": "a8f384ce",
   "metadata": {},
   "outputs": [
    {
     "data": {
      "text/plain": [
       "'1010'"
      ]
     },
     "execution_count": 11,
     "metadata": {},
     "output_type": "execute_result"
    }
   ],
   "source": [
    "bin(10)[2:]"
   ]
  },
  {
   "cell_type": "markdown",
   "id": "a8b810b3",
   "metadata": {},
   "source": [
    "#### 부동소수점 오차"
   ]
  },
  {
   "cell_type": "markdown",
   "id": "9533ee6c",
   "metadata": {},
   "source": [
    "> 1보다 작은 수의 경우에는 십진법으로 간단히 표현되는 수도 이진법에서는 무한개의 유효숫자를 가질 수 있다. 예를 들어 0.1이라는 숫자는 십진수로는 간단히 표현되지만 이진수로 나타내면 다음과 같이 0011이 무한히 반복되는 실수가 된다.\n",
    "\n",
    "> 0.1=0.00011001100110011001100110011001100110011001100110011001100110011⋯\n",
    "\n",
    "> 그런데 컴퓨터에서는 하나의 숫자를 나타내기 위한 메모리 크기가 제한되어 있어서 특정 소수점 이하는 생략하고 가장 비슷한 숫자로 표현할 수 밖에 없다. 0.1은 실제로는 가장 비슷한 다음과 같은 숫자로 저장된다.\n",
    "\n",
    "> 0.1≈0.1000000000000000055511151231257827021181583404541015625\n"
   ]
  },
  {
   "cell_type": "code",
   "execution_count": 12,
   "id": "ab4437f6",
   "metadata": {},
   "outputs": [
    {
     "data": {
      "text/plain": [
       "False"
      ]
     },
     "execution_count": 12,
     "metadata": {},
     "output_type": "execute_result"
    }
   ],
   "source": [
    "0.1 + 0.2 == 0.3"
   ]
  },
  {
   "cell_type": "code",
   "execution_count": 13,
   "id": "5b50fa91",
   "metadata": {},
   "outputs": [
    {
     "data": {
      "text/plain": [
       "0.1"
      ]
     },
     "execution_count": 13,
     "metadata": {},
     "output_type": "execute_result"
    }
   ],
   "source": [
    "0.1"
   ]
  },
  {
   "cell_type": "code",
   "execution_count": 14,
   "id": "21cc7968",
   "metadata": {},
   "outputs": [
    {
     "data": {
      "text/plain": [
       "0.2"
      ]
     },
     "execution_count": 14,
     "metadata": {},
     "output_type": "execute_result"
    }
   ],
   "source": [
    "0.2"
   ]
  },
  {
   "cell_type": "code",
   "execution_count": 15,
   "id": "2d248e54",
   "metadata": {},
   "outputs": [
    {
     "data": {
      "text/plain": [
       "0.3"
      ]
     },
     "execution_count": 15,
     "metadata": {},
     "output_type": "execute_result"
    }
   ],
   "source": [
    "0.3"
   ]
  },
  {
   "cell_type": "code",
   "execution_count": 16,
   "id": "7cb43846",
   "metadata": {},
   "outputs": [
    {
     "data": {
      "text/plain": [
       "0.30000000000000004"
      ]
     },
     "execution_count": 16,
     "metadata": {},
     "output_type": "execute_result"
    }
   ],
   "source": [
    "0.1 + 0.2"
   ]
  },
  {
   "cell_type": "code",
   "execution_count": 17,
   "id": "ee4b048e",
   "metadata": {},
   "outputs": [
    {
     "data": {
      "text/plain": [
       "'%.55f'"
      ]
     },
     "execution_count": 17,
     "metadata": {},
     "output_type": "execute_result"
    }
   ],
   "source": [
    "%precision 55"
   ]
  },
  {
   "cell_type": "code",
   "execution_count": 18,
   "id": "9ae2ba6c",
   "metadata": {},
   "outputs": [
    {
     "data": {
      "text/plain": [
       "0.1000000000000000055511151231257827021181583404541015625"
      ]
     },
     "execution_count": 18,
     "metadata": {},
     "output_type": "execute_result"
    }
   ],
   "source": [
    "0.1"
   ]
  },
  {
   "cell_type": "code",
   "execution_count": 19,
   "id": "f398f50c",
   "metadata": {},
   "outputs": [
    {
     "data": {
      "text/plain": [
       "0.3000000000000000444089209850062616169452667236328125000"
      ]
     },
     "execution_count": 19,
     "metadata": {},
     "output_type": "execute_result"
    }
   ],
   "source": [
    "0.1 + 0.2"
   ]
  },
  {
   "cell_type": "code",
   "execution_count": 20,
   "id": "379b97bf",
   "metadata": {},
   "outputs": [
    {
     "data": {
      "text/plain": [
       "0.2999999999999999888977697537484345957636833190917968750"
      ]
     },
     "execution_count": 20,
     "metadata": {},
     "output_type": "execute_result"
    }
   ],
   "source": [
    "0.3"
   ]
  },
  {
   "cell_type": "code",
   "execution_count": 21,
   "id": "76320059",
   "metadata": {},
   "outputs": [
    {
     "data": {
      "text/plain": [
       "True"
      ]
     },
     "execution_count": 21,
     "metadata": {},
     "output_type": "execute_result"
    }
   ],
   "source": [
    "round(0.1 + 0.2, 1) == round(0.3, 1)"
   ]
  },
  {
   "cell_type": "code",
   "execution_count": 22,
   "id": "72e74a45",
   "metadata": {},
   "outputs": [
    {
     "data": {
      "text/plain": [
       "'%r'"
      ]
     },
     "execution_count": 22,
     "metadata": {},
     "output_type": "execute_result"
    }
   ],
   "source": [
    "%precision %r"
   ]
  },
  {
   "cell_type": "code",
   "execution_count": 23,
   "id": "9170f607",
   "metadata": {},
   "outputs": [
    {
     "data": {
      "text/plain": [
       "0.1"
      ]
     },
     "execution_count": 23,
     "metadata": {},
     "output_type": "execute_result"
    }
   ],
   "source": [
    "0.1"
   ]
  },
  {
   "cell_type": "markdown",
   "id": "2d284be3",
   "metadata": {},
   "source": [
    "#### 형변환"
   ]
  },
  {
   "cell_type": "code",
   "execution_count": 24,
   "id": "81c6d6e9",
   "metadata": {},
   "outputs": [
    {
     "name": "stdout",
     "output_type": "stream",
     "text": [
      "<class 'int'>\n",
      "100\n"
     ]
    }
   ],
   "source": [
    "a = 100.0 # float\n",
    "b = int(a)\n",
    "print(type(b))\n",
    "print(b)"
   ]
  },
  {
   "cell_type": "code",
   "execution_count": 25,
   "id": "9a08b95c",
   "metadata": {},
   "outputs": [
    {
     "data": {
      "text/plain": [
       "100"
      ]
     },
     "execution_count": 25,
     "metadata": {},
     "output_type": "execute_result"
    }
   ],
   "source": [
    "b"
   ]
  },
  {
   "cell_type": "code",
   "execution_count": 26,
   "id": "b4ce06e4",
   "metadata": {},
   "outputs": [
    {
     "data": {
      "text/plain": [
       "float"
      ]
     },
     "execution_count": 26,
     "metadata": {},
     "output_type": "execute_result"
    }
   ],
   "source": [
    "c = float(b)\n",
    "type(c)"
   ]
  },
  {
   "cell_type": "code",
   "execution_count": 27,
   "id": "4eb3e265",
   "metadata": {},
   "outputs": [
    {
     "data": {
      "text/plain": [
       "100.0"
      ]
     },
     "execution_count": 27,
     "metadata": {},
     "output_type": "execute_result"
    }
   ],
   "source": [
    "c"
   ]
  },
  {
   "cell_type": "code",
   "execution_count": 28,
   "id": "7f9d575e",
   "metadata": {},
   "outputs": [
    {
     "data": {
      "text/plain": [
       "1.1234567890123457"
      ]
     },
     "execution_count": 28,
     "metadata": {},
     "output_type": "execute_result"
    }
   ],
   "source": [
    "d = 1.12345678901234567890\n",
    "d"
   ]
  },
  {
   "cell_type": "code",
   "execution_count": 29,
   "id": "472b0ba8",
   "metadata": {},
   "outputs": [
    {
     "data": {
      "text/plain": [
       "1.12"
      ]
     },
     "execution_count": 29,
     "metadata": {},
     "output_type": "execute_result"
    }
   ],
   "source": [
    "round(d, 2) # 소수점 자리"
   ]
  },
  {
   "cell_type": "markdown",
   "id": "30504492",
   "metadata": {},
   "source": [
    "### String"
   ]
  },
  {
   "cell_type": "code",
   "execution_count": 30,
   "id": "3f2b00a4",
   "metadata": {},
   "outputs": [
    {
     "data": {
      "text/plain": [
       "'Hello World'"
      ]
     },
     "execution_count": 30,
     "metadata": {},
     "output_type": "execute_result"
    }
   ],
   "source": [
    "a = 'Hello World' # strlen(a) a[strlen(a)-1]\n",
    "a"
   ]
  },
  {
   "cell_type": "markdown",
   "id": "7ed52738",
   "metadata": {},
   "source": [
    "#### Slicing"
   ]
  },
  {
   "cell_type": "code",
   "execution_count": 31,
   "id": "6a64d0f0",
   "metadata": {},
   "outputs": [
    {
     "data": {
      "text/plain": [
       "'e'"
      ]
     },
     "execution_count": 31,
     "metadata": {},
     "output_type": "execute_result"
    }
   ],
   "source": [
    "a[1]"
   ]
  },
  {
   "cell_type": "code",
   "execution_count": 32,
   "id": "1b1dd255",
   "metadata": {},
   "outputs": [
    {
     "data": {
      "text/plain": [
       "'el'"
      ]
     },
     "execution_count": 32,
     "metadata": {},
     "output_type": "execute_result"
    }
   ],
   "source": [
    "a[1:3]"
   ]
  },
  {
   "cell_type": "code",
   "execution_count": 33,
   "id": "31808e71",
   "metadata": {},
   "outputs": [
    {
     "data": {
      "text/plain": [
       "'el ol'"
      ]
     },
     "execution_count": 33,
     "metadata": {},
     "output_type": "execute_result"
    }
   ],
   "source": [
    "a[1::2] # for(star:end:step) --> [start:end:step]"
   ]
  },
  {
   "cell_type": "code",
   "execution_count": 34,
   "id": "13f05c3e",
   "metadata": {},
   "outputs": [
    {
     "data": {
      "text/plain": [
       "'d'"
      ]
     },
     "execution_count": 34,
     "metadata": {},
     "output_type": "execute_result"
    }
   ],
   "source": [
    "a[-1]"
   ]
  },
  {
   "cell_type": "code",
   "execution_count": 35,
   "id": "e55a0779",
   "metadata": {},
   "outputs": [
    {
     "data": {
      "text/plain": [
       "'dlroW olleH'"
      ]
     },
     "execution_count": 35,
     "metadata": {},
     "output_type": "execute_result"
    }
   ],
   "source": [
    "a[::-1]"
   ]
  },
  {
   "cell_type": "code",
   "execution_count": 36,
   "id": "6dc79c80",
   "metadata": {},
   "outputs": [
    {
     "data": {
      "text/plain": [
       "'llo World'"
      ]
     },
     "execution_count": 36,
     "metadata": {},
     "output_type": "execute_result"
    }
   ],
   "source": [
    "a[2:] # step 의 기본값은 1 --> a[2::1]"
   ]
  },
  {
   "cell_type": "code",
   "execution_count": 37,
   "id": "273dc318",
   "metadata": {},
   "outputs": [
    {
     "data": {
      "text/plain": [
       "'Hello'"
      ]
     },
     "execution_count": 37,
     "metadata": {},
     "output_type": "execute_result"
    }
   ],
   "source": [
    "a[:5] # a[0:5:1]"
   ]
  },
  {
   "cell_type": "code",
   "execution_count": 38,
   "id": "2750a272",
   "metadata": {},
   "outputs": [
    {
     "data": {
      "text/plain": [
       "'d'"
      ]
     },
     "execution_count": 38,
     "metadata": {},
     "output_type": "execute_result"
    }
   ],
   "source": [
    "a[-1]"
   ]
  },
  {
   "cell_type": "code",
   "execution_count": 39,
   "id": "21c286c1",
   "metadata": {},
   "outputs": [
    {
     "data": {
      "text/plain": [
       "'World'"
      ]
     },
     "execution_count": 39,
     "metadata": {},
     "output_type": "execute_result"
    }
   ],
   "source": [
    "a[-5:] # a[-5::1]"
   ]
  },
  {
   "cell_type": "markdown",
   "id": "7c360c87",
   "metadata": {},
   "source": [
    "#### Operation"
   ]
  },
  {
   "cell_type": "code",
   "execution_count": 40,
   "id": "c21f4e86",
   "metadata": {},
   "outputs": [
    {
     "data": {
      "text/plain": [
       "'HelloWorld'"
      ]
     },
     "execution_count": 40,
     "metadata": {},
     "output_type": "execute_result"
    }
   ],
   "source": [
    "a = 'Hello'\n",
    "b = 'World'\n",
    "c = a + b\n",
    "c"
   ]
  },
  {
   "cell_type": "code",
   "execution_count": 41,
   "id": "7fd4ab95",
   "metadata": {},
   "outputs": [
    {
     "ename": "TypeError",
     "evalue": "can't multiply sequence by non-int of type 'str'",
     "output_type": "error",
     "traceback": [
      "\u001b[1;31m---------------------------------------------------------------------------\u001b[0m",
      "\u001b[1;31mTypeError\u001b[0m                                 Traceback (most recent call last)",
      "Input \u001b[1;32mIn [41]\u001b[0m, in \u001b[0;36m<cell line: 1>\u001b[1;34m()\u001b[0m\n\u001b[1;32m----> 1\u001b[0m \u001b[43ma\u001b[49m\u001b[43m \u001b[49m\u001b[38;5;241;43m*\u001b[39;49m\u001b[43m \u001b[49m\u001b[43mb\u001b[49m\n",
      "\u001b[1;31mTypeError\u001b[0m: can't multiply sequence by non-int of type 'str'"
     ]
    }
   ],
   "source": [
    "a * b"
   ]
  },
  {
   "cell_type": "code",
   "execution_count": null,
   "id": "98f95fe4",
   "metadata": {},
   "outputs": [],
   "source": [
    "c * 4"
   ]
  },
  {
   "cell_type": "code",
   "execution_count": null,
   "id": "d0b124fc",
   "metadata": {},
   "outputs": [],
   "source": [
    "'#' * 100"
   ]
  },
  {
   "cell_type": "code",
   "execution_count": null,
   "id": "da1eb821",
   "metadata": {},
   "outputs": [],
   "source": [
    "'-' * 100"
   ]
  },
  {
   "cell_type": "code",
   "execution_count": null,
   "id": "ca899a90",
   "metadata": {},
   "outputs": [],
   "source": [
    "# 포함여부 확인\n",
    "if 'Hello' in c:\n",
    "    print('Yes')\n",
    "else:\n",
    "    print('No')"
   ]
  },
  {
   "cell_type": "code",
   "execution_count": null,
   "id": "6bdc586f",
   "metadata": {},
   "outputs": [],
   "source": [
    "# 비포함 여부확인\n",
    "if 'Hello' not in c:\n",
    "    print('Yes')\n",
    "else:\n",
    "    print('No')"
   ]
  },
  {
   "cell_type": "markdown",
   "id": "62cc7863",
   "metadata": {},
   "source": [
    "#### Formatting (%)"
   ]
  },
  {
   "cell_type": "code",
   "execution_count": null,
   "id": "4cced5eb",
   "metadata": {},
   "outputs": [],
   "source": [
    "char_A = 'A'\n",
    "name = 'Elias Kim'\n",
    "age = 22\n",
    "height = 180.5\n",
    "\n",
    "print('Charactor: %c' % ord(char_A))\n",
    "print('String: %s' % name)\n",
    "print('Integer: %d' % age)\n",
    "\n",
    "print('Float: %f' % height)\n",
    "print('Hex: 0x%x 0x%X' % (47, 47))\n",
    "print('Exponential: %e' % age)"
   ]
  },
  {
   "cell_type": "code",
   "execution_count": null,
   "id": "e05b6429",
   "metadata": {},
   "outputs": [],
   "source": [
    "print('%s:%s:%s' % (name, age, height))\n",
    "print('%5d' % age)\n",
    "print('%05d' % age)\n",
    "print('%0.3f' % age)"
   ]
  },
  {
   "cell_type": "markdown",
   "id": "603a455a",
   "metadata": {},
   "source": [
    "#### Formatting(.format)"
   ]
  },
  {
   "cell_type": "code",
   "execution_count": null,
   "id": "aecd102e",
   "metadata": {},
   "outputs": [],
   "source": [
    "'{}: {}/{}'.format(name, age, height)"
   ]
  },
  {
   "cell_type": "code",
   "execution_count": null,
   "id": "50093555",
   "metadata": {},
   "outputs": [],
   "source": [
    "'{2}: {1}/{0}'.format(height, age, name)"
   ]
  },
  {
   "cell_type": "code",
   "execution_count": null,
   "id": "e4ce3704",
   "metadata": {},
   "outputs": [],
   "source": [
    "'{_name}: {_age}/{_height}'.format(_name=name, _age=age, _height=height)"
   ]
  },
  {
   "cell_type": "markdown",
   "id": "94f4b42b",
   "metadata": {},
   "source": [
    "#### Formattting (f-format)"
   ]
  },
  {
   "cell_type": "code",
   "execution_count": null,
   "id": "02a67c36",
   "metadata": {},
   "outputs": [],
   "source": [
    "f'{name}: {age}/{height}'"
   ]
  },
  {
   "cell_type": "code",
   "execution_count": null,
   "id": "3ba77f60",
   "metadata": {},
   "outputs": [],
   "source": [
    "phone = ''\n",
    "phone_number = f'{phone}'\n",
    "phone = '12345'\n",
    "print(phone_number)"
   ]
  },
  {
   "cell_type": "code",
   "execution_count": null,
   "id": "8f76ef2f",
   "metadata": {},
   "outputs": [],
   "source": [
    "num = 12345.67890\n",
    "print(f'[{num:20}]')\n",
    "print(f'[{num:>20}]')\n",
    "print(f'[{num:<20}]')\n",
    "print(f'[{num:^20}]')\n",
    "print(f'[{num:.1f}]')\n",
    "print(f'[{num:20.1f}]')\n",
    "print(f'[{num:20,.1f}]')\n",
    "print(f'[{num:0<20}]')"
   ]
  },
  {
   "cell_type": "markdown",
   "id": "0be1ed5c",
   "metadata": {},
   "source": [
    "#### Built-in String method"
   ]
  },
  {
   "cell_type": "code",
   "execution_count": null,
   "id": "32220ace",
   "metadata": {},
   "outputs": [],
   "source": [
    "a = 'helloWolrd'"
   ]
  },
  {
   "cell_type": "code",
   "execution_count": null,
   "id": "12d750b8",
   "metadata": {},
   "outputs": [],
   "source": [
    "a.capitalize() # 첫문자 대문자"
   ]
  },
  {
   "cell_type": "code",
   "execution_count": null,
   "id": "427b1c8f",
   "metadata": {},
   "outputs": [],
   "source": [
    "len(a) # 문자열 길이"
   ]
  },
  {
   "cell_type": "code",
   "execution_count": null,
   "id": "c0c4db71",
   "metadata": {},
   "outputs": [],
   "source": [
    "a.upper() # 대문자로"
   ]
  },
  {
   "cell_type": "code",
   "execution_count": null,
   "id": "735dd378",
   "metadata": {},
   "outputs": [],
   "source": [
    "a.lower() #  소문자로"
   ]
  },
  {
   "cell_type": "code",
   "execution_count": null,
   "id": "7730692e",
   "metadata": {},
   "outputs": [],
   "source": [
    "a.count('l') # 해당문자의 개수 # 010-2516-9182"
   ]
  },
  {
   "cell_type": "code",
   "execution_count": null,
   "id": "6b816862",
   "metadata": {},
   "outputs": [],
   "source": [
    "a.find('W') # 해당문자의 위치"
   ]
  },
  {
   "cell_type": "code",
   "execution_count": null,
   "id": "695fe15d",
   "metadata": {},
   "outputs": [],
   "source": [
    "a.index('W') # 해당문자의 위치"
   ]
  },
  {
   "cell_type": "code",
   "execution_count": null,
   "id": "fc439854",
   "metadata": {},
   "outputs": [],
   "source": [
    "a.find('z') # 없으면 -1"
   ]
  },
  {
   "cell_type": "code",
   "execution_count": null,
   "id": "e16b9981",
   "metadata": {},
   "outputs": [],
   "source": [
    "a.index('z') # 없으면 예외발생"
   ]
  },
  {
   "cell_type": "code",
   "execution_count": null,
   "id": "02892889",
   "metadata": {},
   "outputs": [],
   "source": [
    "num = '12345'\n",
    "num.isnumeric() # 숫자냐?"
   ]
  },
  {
   "cell_type": "code",
   "execution_count": null,
   "id": "de015187",
   "metadata": {},
   "outputs": [],
   "source": [
    "num.isdigit()  # 숫자냐?"
   ]
  },
  {
   "cell_type": "code",
   "execution_count": null,
   "id": "ee19b191",
   "metadata": {},
   "outputs": [],
   "source": [
    "num.isdecimal()  # 숫자냐?"
   ]
  },
  {
   "cell_type": "code",
   "execution_count": null,
   "id": "efe75d3f",
   "metadata": {},
   "outputs": [],
   "source": [
    "num = '3²'\n",
    "num.isdecimal() # isdecimal() 사용"
   ]
  },
  {
   "cell_type": "code",
   "execution_count": null,
   "id": "55705039",
   "metadata": {},
   "outputs": [],
   "source": [
    "num.isdigit()"
   ]
  },
  {
   "cell_type": "code",
   "execution_count": null,
   "id": "3fba7456",
   "metadata": {},
   "outputs": [],
   "source": [
    "alphabet = 'abcdef'\n",
    "alphabet.isalpha()  # 문자냐?"
   ]
  },
  {
   "cell_type": "code",
   "execution_count": null,
   "id": "e21254b9",
   "metadata": {},
   "outputs": [],
   "source": [
    "a = \"  \"\n",
    "a.isspace() # 빈공간이 있냐?"
   ]
  },
  {
   "cell_type": "code",
   "execution_count": null,
   "id": "125dc7fe",
   "metadata": {},
   "outputs": [],
   "source": [
    "a = 'abcdef'\n",
    "b = a.encode() # byte array로 변환\n",
    "b"
   ]
  },
  {
   "cell_type": "code",
   "execution_count": null,
   "id": "b6bf1bc4",
   "metadata": {},
   "outputs": [],
   "source": [
    "a"
   ]
  },
  {
   "cell_type": "code",
   "execution_count": null,
   "id": "f081bd5c",
   "metadata": {},
   "outputs": [],
   "source": [
    "c = b.decode() # string(unicode)로 변환\n",
    "c"
   ]
  },
  {
   "cell_type": "code",
   "execution_count": null,
   "id": "01a03908",
   "metadata": {},
   "outputs": [],
   "source": [
    "a = '안녕 세계야'"
   ]
  },
  {
   "cell_type": "code",
   "execution_count": null,
   "id": "48da9a2c",
   "metadata": {},
   "outputs": [],
   "source": [
    "b = a.encode('utf-8') # 기본값인 utf-8로 변환\n",
    "b"
   ]
  },
  {
   "cell_type": "code",
   "execution_count": null,
   "id": "3c877f4e",
   "metadata": {},
   "outputs": [],
   "source": [
    "c = b.decode()\n",
    "c"
   ]
  },
  {
   "cell_type": "code",
   "execution_count": null,
   "id": "5ce20228",
   "metadata": {},
   "outputs": [],
   "source": [
    "b = a.encode('cp949') # Codepage 949 한글\n",
    "b"
   ]
  },
  {
   "cell_type": "code",
   "execution_count": null,
   "id": "a6780b80",
   "metadata": {},
   "outputs": [],
   "source": [
    "c = b.decode('cp949') # 예외 발생, 기본값이 'UTF-8'로 디코딩\n",
    "c"
   ]
  },
  {
   "cell_type": "code",
   "execution_count": null,
   "id": "e7b76d30",
   "metadata": {},
   "outputs": [],
   "source": [
    "animals = ['dog', 'cat', 'tiger', 'lion']\n",
    "a = ','.join(animals) # 문자열 엮기\n",
    "a"
   ]
  },
  {
   "cell_type": "code",
   "execution_count": null,
   "id": "db051d8e",
   "metadata": {},
   "outputs": [],
   "source": [
    "b = a.split(',') # \",\"로 구분하여 리스트 생성\n",
    "b"
   ]
  },
  {
   "cell_type": "code",
   "execution_count": null,
   "id": "fe5531d3",
   "metadata": {},
   "outputs": [],
   "source": [
    "phone = ' 010-2222-1111 '\n",
    "phone.strip() # 앞/뒤 빈공간 잘라내기"
   ]
  },
  {
   "cell_type": "code",
   "execution_count": null,
   "id": "66849cc4",
   "metadata": {},
   "outputs": [],
   "source": [
    "phone = ' 010-2222-1111 '\n",
    "phone.lstrip() # 왼쪽공백 제거"
   ]
  },
  {
   "cell_type": "code",
   "execution_count": null,
   "id": "53af4523",
   "metadata": {},
   "outputs": [],
   "source": [
    "phone = ' 010-2222-1111 '\n",
    "phone.rstrip() # 오른쪽 공백 제거"
   ]
  },
  {
   "cell_type": "code",
   "execution_count": null,
   "id": "3894fb9b",
   "metadata": {},
   "outputs": [],
   "source": [
    "phone.replace('010', '011') # 문자열 변환"
   ]
  },
  {
   "cell_type": "code",
   "execution_count": null,
   "id": "a34af7c6",
   "metadata": {},
   "outputs": [],
   "source": [
    "phone.replace('-', '').strip()"
   ]
  },
  {
   "cell_type": "markdown",
   "id": "b505dd35",
   "metadata": {},
   "source": [
    "### List"
   ]
  },
  {
   "cell_type": "code",
   "execution_count": null,
   "id": "b432cb3f",
   "metadata": {},
   "outputs": [],
   "source": [
    "list1 = [5,3,1,2,4]\n",
    "list1"
   ]
  },
  {
   "cell_type": "code",
   "execution_count": null,
   "id": "ec4ae0f2",
   "metadata": {},
   "outputs": [],
   "source": [
    "list_ = []\n",
    "list_ = list()\n",
    "\n",
    "list_.append('a')\n",
    "list_"
   ]
  },
  {
   "cell_type": "code",
   "execution_count": null,
   "id": "52654a9d",
   "metadata": {},
   "outputs": [],
   "source": [
    "list2 = ['a', 'b', 'c', 'd', 'e']\n",
    "list2"
   ]
  },
  {
   "cell_type": "code",
   "execution_count": null,
   "id": "cf3739c6",
   "metadata": {},
   "outputs": [],
   "source": [
    "list3 = [1, 'a', 2, 'b', 3] # 혼합 리스트\n",
    "list3"
   ]
  },
  {
   "cell_type": "code",
   "execution_count": null,
   "id": "9074a940",
   "metadata": {},
   "outputs": [],
   "source": [
    "list3[2] # Indexing"
   ]
  },
  {
   "cell_type": "code",
   "execution_count": null,
   "id": "01a91f37",
   "metadata": {},
   "outputs": [],
   "source": [
    "list3[1:4] # Slicing"
   ]
  },
  {
   "cell_type": "code",
   "execution_count": null,
   "id": "226f5ebd",
   "metadata": {},
   "outputs": [],
   "source": [
    "list3[0] = 9\n",
    "list3"
   ]
  },
  {
   "cell_type": "code",
   "execution_count": null,
   "id": "83d0bf98",
   "metadata": {},
   "outputs": [],
   "source": [
    "list3 = []\n",
    "list3 += list1\n",
    "list3"
   ]
  },
  {
   "cell_type": "code",
   "execution_count": null,
   "id": "8a96608b",
   "metadata": {},
   "outputs": [],
   "source": [
    "list4 = list1 + list2 # 리스트 합치기\n",
    "list4"
   ]
  },
  {
   "cell_type": "code",
   "execution_count": null,
   "id": "b4f7f1df",
   "metadata": {},
   "outputs": [],
   "source": [
    "for index, elem in enumerate(list4):\n",
    "    print(index)\n",
    "    print(elem)\n",
    "    print('--------')"
   ]
  },
  {
   "cell_type": "code",
   "execution_count": null,
   "id": "b24e7c1d",
   "metadata": {},
   "outputs": [],
   "source": [
    "list2"
   ]
  },
  {
   "cell_type": "code",
   "execution_count": null,
   "id": "6f7f6243",
   "metadata": {},
   "outputs": [],
   "source": [
    "list5 = list2.copy() # append\n",
    "list5.append('f')\n",
    "list5"
   ]
  },
  {
   "cell_type": "code",
   "execution_count": null,
   "id": "d1c0ae6e",
   "metadata": {},
   "outputs": [],
   "source": [
    "list5 = list2.copy() # extend\n",
    "list5.extend('f')\n",
    "list5"
   ]
  },
  {
   "cell_type": "code",
   "execution_count": null,
   "id": "fae229ee",
   "metadata": {},
   "outputs": [],
   "source": [
    "list5 = list2.copy() # extend와 append의 차이\n",
    "list5.append(list1)\n",
    "list5"
   ]
  },
  {
   "cell_type": "code",
   "execution_count": null,
   "id": "5d9646fd",
   "metadata": {},
   "outputs": [],
   "source": [
    "len(list5)"
   ]
  },
  {
   "cell_type": "code",
   "execution_count": null,
   "id": "94304e56",
   "metadata": {},
   "outputs": [],
   "source": [
    "list5 = list2.copy()\n",
    "list5.extend(list1)\n",
    "list5"
   ]
  },
  {
   "cell_type": "code",
   "execution_count": null,
   "id": "6dcda7d8",
   "metadata": {},
   "outputs": [],
   "source": [
    "len(list5)"
   ]
  },
  {
   "cell_type": "code",
   "execution_count": null,
   "id": "be6e2c80",
   "metadata": {},
   "outputs": [],
   "source": [
    "len(list4) # list 길이"
   ]
  },
  {
   "cell_type": "code",
   "execution_count": null,
   "id": "bca42568",
   "metadata": {},
   "outputs": [],
   "source": [
    "list1 * 3"
   ]
  },
  {
   "cell_type": "code",
   "execution_count": null,
   "id": "1723fbf6",
   "metadata": {},
   "outputs": [],
   "source": [
    "list1 * list2"
   ]
  },
  {
   "cell_type": "code",
   "execution_count": null,
   "id": "672072ac",
   "metadata": {},
   "outputs": [],
   "source": [
    "list2 = ['a', 'b', 'c', 'c', 'd', 'c']"
   ]
  },
  {
   "cell_type": "code",
   "execution_count": null,
   "id": "ccba232c",
   "metadata": {},
   "outputs": [],
   "source": [
    "list5 = list2.copy()\n",
    "ret = list5.remove('c')  # remove\n",
    "print(ret)\n",
    "list5"
   ]
  },
  {
   "cell_type": "code",
   "execution_count": null,
   "id": "bfb2f21c",
   "metadata": {},
   "outputs": [],
   "source": [
    "list5 = list2.copy()\n",
    "ret = list5.pop(2) # pop\n",
    "print(ret)\n",
    "list5"
   ]
  },
  {
   "cell_type": "code",
   "execution_count": null,
   "id": "702cf6ce",
   "metadata": {},
   "outputs": [],
   "source": [
    "list1"
   ]
  },
  {
   "cell_type": "code",
   "execution_count": null,
   "id": "21beecbd",
   "metadata": {},
   "outputs": [],
   "source": [
    "list5 = list1.copy()\n",
    "ret = list5.sort(reverse=True)\n",
    "print(ret)\n",
    "list5"
   ]
  },
  {
   "cell_type": "code",
   "execution_count": null,
   "id": "2a59d879",
   "metadata": {},
   "outputs": [],
   "source": [
    "list5 = list1.copy()\n",
    "ret = sorted(list5, reverse=False)\n",
    "print('result:', ret)\n",
    "print('origin:', list5)"
   ]
  },
  {
   "cell_type": "code",
   "execution_count": null,
   "id": "be45af8e",
   "metadata": {},
   "outputs": [],
   "source": [
    "list5 = list1.copy()\n",
    "ret = list5.reverse()\n",
    "print(ret)\n",
    "list5"
   ]
  },
  {
   "cell_type": "code",
   "execution_count": null,
   "id": "7fdbaf58",
   "metadata": {},
   "outputs": [],
   "source": [
    "list5 = list1.copy()\n",
    "ret = reversed(list5)\n",
    "print(ret)\n",
    "print(list(ret))\n",
    "list5"
   ]
  },
  {
   "cell_type": "code",
   "execution_count": null,
   "id": "57ba064f",
   "metadata": {},
   "outputs": [],
   "source": [
    "list5.clear() # list5 = []\n",
    "list5 = []\n",
    "list5"
   ]
  },
  {
   "cell_type": "code",
   "execution_count": null,
   "id": "e4079194",
   "metadata": {},
   "outputs": [],
   "source": [
    "list6 = [1,3,2,5,7,4,3,8,9,4,2]\n",
    "print(sorted(list6))\n",
    "print(sorted(set(list6)))"
   ]
  },
  {
   "cell_type": "code",
   "execution_count": null,
   "id": "8b26e1b3",
   "metadata": {},
   "outputs": [],
   "source": [
    "pats = ['dog', 'cat', 'bird', 'fish']\n",
    "\n",
    "for index, pat in enumerate(pats): # Unpacking (index, pat)\n",
    "    \n",
    "    print(f'Index:{index} Pat:{pat}')"
   ]
  },
  {
   "cell_type": "code",
   "execution_count": null,
   "id": "e64878eb",
   "metadata": {},
   "outputs": [],
   "source": [
    "index = 0\n",
    "for pat in pats:\n",
    "    print(pat, index)\n",
    "    index += 1"
   ]
  },
  {
   "cell_type": "code",
   "execution_count": null,
   "id": "a3b8f165",
   "metadata": {},
   "outputs": [],
   "source": [
    "pats = ['dog', 'cat', 'bird', 'fish']\n",
    "owner = ['Andy', 'Elias', 'Jordan', 'Tony']\n",
    "\n",
    "print(zip(pats, owner))"
   ]
  },
  {
   "cell_type": "code",
   "execution_count": null,
   "id": "bf2c290f",
   "metadata": {},
   "outputs": [],
   "source": [
    "pats = ['dog', 'cat', 'bird', 'fish']\n",
    "owner = ['Andy', 'Elias', 'Jordan', 'Tony']\n",
    "\n",
    "print(tuple(zip(pats, owner)))\n",
    "print(list(zip(pats, owner)))\n",
    "print(dict(zip(pats, owner)))\n",
    "\n",
    "for pat, owner in zip(pats, owner): #  unpacking (pat, owner)\n",
    "    print(f'Pat: {pat}, Owner: {owner}')"
   ]
  },
  {
   "cell_type": "markdown",
   "id": "427e3897",
   "metadata": {},
   "source": [
    "### Tuple"
   ]
  },
  {
   "cell_type": "code",
   "execution_count": null,
   "id": "e14c87ea",
   "metadata": {},
   "outputs": [],
   "source": [
    "tuple1 = (5,3,1,2,4)\n",
    "tuple1"
   ]
  },
  {
   "cell_type": "code",
   "execution_count": null,
   "id": "6b05e01a",
   "metadata": {},
   "outputs": [],
   "source": [
    "tuple1[1] = 7"
   ]
  },
  {
   "cell_type": "code",
   "execution_count": null,
   "id": "2aefd6cb",
   "metadata": {},
   "outputs": [],
   "source": [
    "tuple2 = ('a', 'b', 'c', 'd', 'e')\n",
    "tuple3 = tuple1 + tuple2\n",
    "tuple3"
   ]
  },
  {
   "cell_type": "code",
   "execution_count": null,
   "id": "46ccf18f",
   "metadata": {},
   "outputs": [],
   "source": [
    "len(tuple3)"
   ]
  },
  {
   "cell_type": "markdown",
   "id": "ad496e52",
   "metadata": {},
   "source": [
    "### Dictionary"
   ]
  },
  {
   "cell_type": "code",
   "execution_count": null,
   "id": "970d154d",
   "metadata": {},
   "outputs": [],
   "source": [
    "# Creating an empty Dictionary  \n",
    "Dict = {}\n",
    "Dict = dict()\n",
    "print(Dict)  \n",
    " \n",
    "# with Integer Keys  \n",
    "Dict = {1: 'Geeks', 2: 'For', 3: 'Geeks'}\n",
    "print(Dict)  \n",
    " \n",
    "# with Mixed keys  \n",
    "Dict = {'Name': 'Geeks', 1: [1, 2, 3, 4]}\n",
    "print(Dict) "
   ]
  },
  {
   "cell_type": "markdown",
   "id": "4b675ae5",
   "metadata": {},
   "source": [
    "<img src=\"https://media.geeksforgeeks.org/wp-content/uploads/20191224155528/Dictionary-Creation-11.jpg\" width=500>"
   ]
  },
  {
   "cell_type": "code",
   "execution_count": null,
   "id": "b0c15ecb",
   "metadata": {},
   "outputs": [],
   "source": [
    "dic = {}\n",
    "dic = dict()\n",
    "\n",
    "dic['name'] = 'Elias Kim'\n",
    "dic"
   ]
  },
  {
   "cell_type": "code",
   "execution_count": null,
   "id": "085b621b",
   "metadata": {},
   "outputs": [],
   "source": [
    "dic = {'name':'Elias Kim', 'age':22, 'location':'Seoul'} # 초기화\n",
    "dic"
   ]
  },
  {
   "cell_type": "code",
   "execution_count": null,
   "id": "a579ecab",
   "metadata": {},
   "outputs": [],
   "source": [
    "dic['name'] # 데이터 접근"
   ]
  },
  {
   "cell_type": "code",
   "execution_count": null,
   "id": "980cc866",
   "metadata": {},
   "outputs": [],
   "source": [
    "dic['age'] = 20 # 업데이트\n",
    "dic"
   ]
  },
  {
   "cell_type": "code",
   "execution_count": null,
   "id": "00f43ddc",
   "metadata": {},
   "outputs": [],
   "source": [
    "dic['company'] = 'LG Electronics' # 추가\n",
    "dic"
   ]
  },
  {
   "cell_type": "code",
   "execution_count": null,
   "id": "ab7e4d7e",
   "metadata": {},
   "outputs": [],
   "source": [
    "del dic['company'] # 삭제\n",
    "dic"
   ]
  },
  {
   "cell_type": "code",
   "execution_count": null,
   "id": "6292696e",
   "metadata": {},
   "outputs": [],
   "source": [
    "len(dic) # 길이"
   ]
  },
  {
   "cell_type": "code",
   "execution_count": null,
   "id": "cdadd664",
   "metadata": {},
   "outputs": [],
   "source": [
    "dic2 = dic.copy()\n",
    "dic2.clear()          # 모두삭제\n",
    "dic2 = {}\n",
    "dic2"
   ]
  },
  {
   "cell_type": "code",
   "execution_count": null,
   "id": "701a00a7",
   "metadata": {},
   "outputs": [],
   "source": [
    "for value in dic.values(): # value 가져오기\n",
    "    print(value)"
   ]
  },
  {
   "cell_type": "code",
   "execution_count": null,
   "id": "1cf24fcf",
   "metadata": {},
   "outputs": [],
   "source": [
    "for key in dic.keys(): # key 가져오기\n",
    "    print(key)"
   ]
  },
  {
   "cell_type": "code",
   "execution_count": null,
   "id": "dcfd0789",
   "metadata": {},
   "outputs": [],
   "source": [
    "for elem in dic: # key 가져오기\n",
    "    print(elem)\n",
    "    print(dic[elem])"
   ]
  },
  {
   "cell_type": "code",
   "execution_count": null,
   "id": "c2fcd182",
   "metadata": {},
   "outputs": [],
   "source": [
    "for item in dic.items(): # item 가져오기\n",
    "    print(item)"
   ]
  },
  {
   "cell_type": "code",
   "execution_count": null,
   "id": "90b588a6",
   "metadata": {},
   "outputs": [],
   "source": [
    "for key, value in dic.items(): # unpacking\n",
    "    print(f'{key}:{value}')"
   ]
  },
  {
   "cell_type": "code",
   "execution_count": null,
   "id": "2ff3e9e1",
   "metadata": {},
   "outputs": [],
   "source": [
    "print(dic['company']) # 없는 키값을 접근하면 예외발생"
   ]
  },
  {
   "cell_type": "code",
   "execution_count": null,
   "id": "e8522340",
   "metadata": {},
   "outputs": [],
   "source": [
    "if 'company' in dic:\n",
    "    print(dic['company'])\n",
    "else:\n",
    "    print('\"company\" key is not exist')"
   ]
  },
  {
   "cell_type": "code",
   "execution_count": null,
   "id": "0537449e",
   "metadata": {},
   "outputs": [],
   "source": [
    "# python 3.6 이전에는 삽입순서대로 들어가지 않음 -> 하위호환겅 고려\n",
    "normal_dict = {}\n",
    "normal_dict['a'] = 1\n",
    "normal_dict['b'] = 2\n",
    "normal_dict['c'] = 3\n",
    "\n",
    "for k, v in normal_dict.items():\n",
    "    print(f'{k}:{v}')\n",
    "\n",
    "from collections import OrderedDict\n",
    "\n",
    "order_dict = OrderedDict()\n",
    "order_dict['a'] = 1\n",
    "order_dict['b'] = 2\n",
    "order_dict['c'] = 3\n",
    "\n",
    "for k, v in order_dict.items():\n",
    "    print(f'{k}:{v}')\n",
    "    \n",
    "# Dict과 Orderdict간엔 순서무시\n",
    "normal_dict = {'a':1, 'c':3, 'b':2}\n",
    "order_dict = {'a':1, 'b':2, 'c':3}\n",
    "print('same' if normal_dict == order_dict else 'not same')\n",
    "\n",
    "# OrderedDict간에는 순서중요\n",
    "order_dict = OrderedDict({'a':1, 'b':2, 'c':3})\n",
    "order_dict2 = OrderedDict({'a':1, 'c':3, 'b':2})\n",
    "print('same' if order_dict == order_dict2 else 'not same')"
   ]
  },
  {
   "cell_type": "markdown",
   "id": "62ad37ca",
   "metadata": {},
   "source": [
    "## Mutable vs Immutable\n",
    "> https://ledgku.tistory.com/54"
   ]
  },
  {
   "cell_type": "markdown",
   "id": "e9622eb5",
   "metadata": {},
   "source": [
    "### Immutable"
   ]
  },
  {
   "cell_type": "code",
   "execution_count": null,
   "id": "c00dc076",
   "metadata": {},
   "outputs": [],
   "source": [
    "def change(x):\n",
    "    x = 20"
   ]
  },
  {
   "cell_type": "code",
   "execution_count": null,
   "id": "18242521",
   "metadata": {},
   "outputs": [],
   "source": [
    "a = 10\n",
    "change(a)\n",
    "a"
   ]
  },
  {
   "cell_type": "code",
   "execution_count": null,
   "id": "da0e1f4a",
   "metadata": {},
   "outputs": [],
   "source": [
    "def change2(x):\n",
    "    x = 'World'"
   ]
  },
  {
   "cell_type": "code",
   "execution_count": null,
   "id": "97be4877",
   "metadata": {},
   "outputs": [],
   "source": [
    "a = 'Hello'\n",
    "change2(a)\n",
    "a"
   ]
  },
  {
   "cell_type": "code",
   "execution_count": null,
   "id": "0afcb28f",
   "metadata": {},
   "outputs": [],
   "source": [
    "def change4(x):\n",
    "    x = (1,2,3)"
   ]
  },
  {
   "cell_type": "code",
   "execution_count": null,
   "id": "954e8bbf",
   "metadata": {},
   "outputs": [],
   "source": [
    "a = (1,2)\n",
    "change4(a)\n",
    "a"
   ]
  },
  {
   "cell_type": "markdown",
   "id": "ba536a08",
   "metadata": {},
   "source": [
    "### Mutable"
   ]
  },
  {
   "cell_type": "code",
   "execution_count": null,
   "id": "f44cf81c",
   "metadata": {},
   "outputs": [],
   "source": [
    "def change3(x):\n",
    "    x.append(4)"
   ]
  },
  {
   "cell_type": "code",
   "execution_count": null,
   "id": "1ee1b6a3",
   "metadata": {},
   "outputs": [],
   "source": [
    "a = [1,2,3]\n",
    "change2(a)\n",
    "a"
   ]
  },
  {
   "cell_type": "code",
   "execution_count": null,
   "id": "7fd06b8c",
   "metadata": {},
   "outputs": [],
   "source": [
    "def change4(x):\n",
    "    x['age'] = 20"
   ]
  },
  {
   "cell_type": "code",
   "execution_count": null,
   "id": "96ed9147",
   "metadata": {},
   "outputs": [],
   "source": [
    "a = {'name':'Elias Kim'}\n",
    "change4(a)\n",
    "a"
   ]
  },
  {
   "cell_type": "markdown",
   "id": "7ab214e7",
   "metadata": {},
   "source": [
    "### if elif else"
   ]
  },
  {
   "cell_type": "code",
   "execution_count": null,
   "id": "70ee468f",
   "metadata": {},
   "outputs": [],
   "source": [
    "if 조건1:\n",
    "    조건1이 참일 때 실행되는 명령\n",
    "elif 조건2:\n",
    "    조건1이 거짓이고 조건2가 참일 때 실행되는 명령\n",
    "elif 조건3:\n",
    "    조건1과 조건2가 거짓이고 조건3가 참일 때 실행되는 명령\n",
    "\n",
    "...(생략)...\n",
    "\n",
    "\n",
    "else:\n",
    "    지금까지의 어떤 조건도 참이 아니면 실행되는 명령"
   ]
  },
  {
   "cell_type": "markdown",
   "id": "1706da68",
   "metadata": {},
   "source": [
    "### Global Variable"
   ]
  },
  {
   "cell_type": "code",
   "execution_count": null,
   "id": "c6496df7",
   "metadata": {},
   "outputs": [],
   "source": [
    "g_num = 10"
   ]
  },
  {
   "cell_type": "code",
   "execution_count": null,
   "id": "a015b0e9",
   "metadata": {},
   "outputs": [],
   "source": [
    "def fun():\n",
    "    print(g_num)"
   ]
  },
  {
   "cell_type": "code",
   "execution_count": null,
   "id": "d81daf43",
   "metadata": {},
   "outputs": [],
   "source": [
    "fun()"
   ]
  },
  {
   "cell_type": "code",
   "execution_count": null,
   "id": "07b5b5d7",
   "metadata": {},
   "outputs": [],
   "source": [
    "def fun2():\n",
    "    g_num = 5\n",
    "    print(g_num)"
   ]
  },
  {
   "cell_type": "code",
   "execution_count": null,
   "id": "e8223279",
   "metadata": {},
   "outputs": [],
   "source": [
    "fun2()"
   ]
  },
  {
   "cell_type": "code",
   "execution_count": null,
   "id": "4f10bba9",
   "metadata": {},
   "outputs": [],
   "source": [
    "g_num"
   ]
  },
  {
   "cell_type": "code",
   "execution_count": null,
   "id": "b6df9eeb",
   "metadata": {},
   "outputs": [],
   "source": [
    "def fun3():\n",
    "    global g_num\n",
    "    g_num = 5\n",
    "    print(g_num)"
   ]
  },
  {
   "cell_type": "code",
   "execution_count": null,
   "id": "92aaacc2",
   "metadata": {},
   "outputs": [],
   "source": [
    "fun3()"
   ]
  },
  {
   "cell_type": "code",
   "execution_count": null,
   "id": "0405ff54",
   "metadata": {},
   "outputs": [],
   "source": [
    "g_num"
   ]
  },
  {
   "cell_type": "markdown",
   "id": "38bbaef4",
   "metadata": {},
   "source": [
    "### Looping"
   ]
  },
  {
   "cell_type": "markdown",
   "id": "a6eb51a9",
   "metadata": {},
   "source": [
    "#### While Loop"
   ]
  },
  {
   "cell_type": "markdown",
   "id": "4dae7374",
   "metadata": {},
   "source": [
    "<img src=\"https://media.geeksforgeeks.org/wp-content/uploads/20191226130537/while-loop1.jpg\" width=\"500\">"
   ]
  },
  {
   "cell_type": "code",
   "execution_count": null,
   "id": "01770a65",
   "metadata": {},
   "outputs": [],
   "source": [
    "# Python program to illustrate  \n",
    "# while and while-else loop\n",
    "i = 0\n",
    "while (i < 3):      \n",
    "    i = i + 1\n",
    "    print(\"Hello Geek\")  \n",
    "   \n",
    "# checks if list still \n",
    "# contains any element  \n",
    "a = [1, 2, 3, 4] \n",
    "while a: \n",
    "    print(a.pop()) \n",
    "    # 반대는?\n",
    "   \n",
    "i = 10\n",
    "while i < 12:  \n",
    "    i += 1\n",
    "    print(i)  \n",
    "    break\n",
    "else: # Not executed as there is a break  \n",
    "    print(\"No Break\") "
   ]
  },
  {
   "cell_type": "markdown",
   "id": "4e017d9c",
   "metadata": {},
   "source": [
    "#### For Loop"
   ]
  },
  {
   "cell_type": "markdown",
   "id": "1dfb5008",
   "metadata": {},
   "source": [
    "<img src=\"https://media.geeksforgeeks.org/wp-content/uploads/20191226130622/for-loop-python1.jpg\" width=500>"
   ]
  },
  {
   "cell_type": "code",
   "execution_count": null,
   "id": "9a35cf17",
   "metadata": {},
   "outputs": [],
   "source": [
    "# Python program to illustrate  \n",
    "# Iterating over a list  \n",
    "print(\"List Iteration\")  \n",
    "l = [\"geeks\", \"for\", \"geeks\"]  \n",
    "for i in l:  \n",
    "    print(i) \n",
    "     \n",
    "# Iterating over a String  \n",
    "print(\"\\nString Iteration\")      \n",
    "s = \"Geeks\"\n",
    "for i in s :  \n",
    "    print(i)  \n",
    "     \n",
    "print(\"\\nFor-else loop\")\n",
    "for i in s:  \n",
    "    print(i)  \n",
    "else: # Executed because no break in for  \n",
    "    print(\"No Break\\n\")  \n",
    "   \n",
    "for i in s:  \n",
    "    print(i)  \n",
    "    break\n",
    "else: # Not executed as there is a break  \n",
    "    print(\"No Break\")  "
   ]
  },
  {
   "cell_type": "markdown",
   "id": "3fb866b5",
   "metadata": {},
   "source": [
    "#### range function()"
   ]
  },
  {
   "cell_type": "markdown",
   "id": "3fb6bcb0",
   "metadata": {},
   "source": [
    "<img src=\"https://media.geeksforgeeks.org/wp-content/uploads/20191224171636/PythonRange0102-11.png\" width=500>"
   ]
  },
  {
   "cell_type": "code",
   "execution_count": null,
   "id": "7f58ad0a",
   "metadata": {},
   "outputs": [],
   "source": [
    "# Python program to demonstrate\n",
    "# range() function\n",
    "\n",
    "# for(int i=0; i<10; i++)\n",
    " \n",
    "for i in range(10): \n",
    "    print(i, end =\" \") \n",
    "print()\n",
    " \n",
    "for i in range(2, 9): \n",
    "    print(i, end =\" \") \n",
    "print()\n",
    " \n",
    "# incremented by 3 \n",
    "for i in range(15, 25, 3): \n",
    "    print(i, end =\" \") "
   ]
  },
  {
   "cell_type": "markdown",
   "id": "91e6f8aa",
   "metadata": {},
   "source": [
    "#### Control Loop statement"
   ]
  },
  {
   "cell_type": "code",
   "execution_count": null,
   "id": "391efa68",
   "metadata": {},
   "outputs": [],
   "source": [
    "# Python program to demonstrate\n",
    "# break, continue and pass \n",
    "   \n",
    "s = 'geeksforgeeks'\n",
    " \n",
    "for letter in s: \n",
    "    if letter == 'e' or letter == 's': \n",
    "        break\n",
    "    print(letter, end = \" \")\n",
    "print()\n",
    " \n",
    "for letter in s: \n",
    "    if letter == 'e' or letter == 's': \n",
    "        continue\n",
    "    print(letter, end = \" \")\n",
    "print()    \n",
    " \n",
    "for letter in s: \n",
    "    if letter == 'e' or letter == 's': \n",
    "        pass\n",
    "    print(letter, end = \" \")\n",
    "    \n",
    "def funcA():\n",
    "    # todo: make list\n",
    "    pass\n"
   ]
  },
  {
   "cell_type": "markdown",
   "id": "b41ccabc",
   "metadata": {},
   "source": [
    "### Function"
   ]
  },
  {
   "cell_type": "code",
   "execution_count": null,
   "id": "28630223",
   "metadata": {},
   "outputs": [],
   "source": [
    "def func_add(a, b):\n",
    "    c = a+b\n",
    "    return c"
   ]
  },
  {
   "cell_type": "code",
   "execution_count": null,
   "id": "5da753b2",
   "metadata": {},
   "outputs": [],
   "source": [
    "func_add(10, 20)"
   ]
  },
  {
   "cell_type": "code",
   "execution_count": null,
   "id": "630e18bb",
   "metadata": {},
   "outputs": [],
   "source": [
    "def person_info(name, age=22):\n",
    "    print('Name:', name)\n",
    "    print('Age:', age)\n",
    "    \n",
    "# def person_info(name, age=22, address): # Error!!!\n",
    "#     print('Name:', name)\n",
    "#     print('Age:', age)\n",
    "#     print('Address:', address)"
   ]
  },
  {
   "cell_type": "code",
   "execution_count": null,
   "id": "87b8c6fe",
   "metadata": {},
   "outputs": [],
   "source": [
    "person_info('Elias Kim', 20)"
   ]
  },
  {
   "cell_type": "code",
   "execution_count": null,
   "id": "652b54c3",
   "metadata": {},
   "outputs": [],
   "source": [
    "person_info(age=22, name='Elias Kim')"
   ]
  },
  {
   "cell_type": "code",
   "execution_count": null,
   "id": "27dfcd42",
   "metadata": {},
   "outputs": [],
   "source": [
    "person_info('Elias Kim')"
   ]
  },
  {
   "cell_type": "code",
   "execution_count": null,
   "id": "3d6a8eb4",
   "metadata": {},
   "outputs": [],
   "source": [
    "def multi_return(a, b):\n",
    "    return a+b, a-b, a*b, a/b  # packing"
   ]
  },
  {
   "cell_type": "code",
   "execution_count": null,
   "id": "2aaf04ec",
   "metadata": {},
   "outputs": [],
   "source": [
    "ret = multi_return(10, 2)\n",
    "ret"
   ]
  },
  {
   "cell_type": "code",
   "execution_count": null,
   "id": "f0e99555",
   "metadata": {},
   "outputs": [],
   "source": [
    "sum_, minus, multi, devide = multi_return(10, 2)\n",
    "print(sum_)\n",
    "print(minus)\n",
    "print(multi)\n",
    "print(devide)"
   ]
  },
  {
   "cell_type": "code",
   "execution_count": null,
   "id": "f7ba67a4",
   "metadata": {},
   "outputs": [],
   "source": [
    "sum_, _, multi, _ = multi_return(10, 2)\n",
    "print(sum_)\n",
    "print(multi)"
   ]
  },
  {
   "cell_type": "markdown",
   "id": "bd6af8dd",
   "metadata": {},
   "source": [
    "#### Lambda 람다 함수"
   ]
  },
  {
   "cell_type": "code",
   "execution_count": null,
   "id": "1dee9a40",
   "metadata": {},
   "outputs": [],
   "source": [
    "def add(a, b):\n",
    "    return a+b\n",
    "\n",
    "add(1,2)"
   ]
  },
  {
   "cell_type": "code",
   "execution_count": null,
   "id": "eb4426cb",
   "metadata": {},
   "outputs": [],
   "source": [
    "add = lambda x, y: x + y\n",
    "add(1,2)"
   ]
  },
  {
   "cell_type": "code",
   "execution_count": null,
   "id": "c9ab382a",
   "metadata": {},
   "outputs": [],
   "source": [
    "def fun(x):\n",
    "    if x < 3:\n",
    "        return x * 2\n",
    "    else:\n",
    "        return x * 0\n",
    "\n",
    "a = [1,2,3,4,5]\n",
    "list(map(fun, a))"
   ]
  },
  {
   "cell_type": "code",
   "execution_count": null,
   "id": "80b90881",
   "metadata": {},
   "outputs": [],
   "source": [
    "a = [1,2,3,4,5]\n",
    "list(map(lambda x: x*2 if x < 3 else x*0, a))"
   ]
  },
  {
   "cell_type": "code",
   "execution_count": null,
   "id": "222f7841",
   "metadata": {},
   "outputs": [],
   "source": [
    "dic_list = [{'name': 'kim', 'age': 20}, {'name': 'park', 'age':24}, {'name':'lee', 'age':21}]\n",
    "sorted(dic_list, key=fun2, reverse=False)"
   ]
  },
  {
   "cell_type": "code",
   "execution_count": null,
   "id": "8f0a1b22",
   "metadata": {},
   "outputs": [],
   "source": [
    "dic_list = [{'name': 'kim', 'age': 20}, {'name': 'park', 'age':24}, {'name':'lee', 'age':21}]\n",
    "sorted(dic_list, key=lambda item: item['name'], reverse=False)"
   ]
  },
  {
   "cell_type": "code",
   "execution_count": null,
   "id": "75a01b13",
   "metadata": {},
   "outputs": [],
   "source": [
    "a = [{'name':'Elias'}, {'name':'Kim'}]\n",
    "list(map(lambda x: x['name'], a))"
   ]
  },
  {
   "cell_type": "markdown",
   "id": "78f3ffc3",
   "metadata": {},
   "source": [
    "#### 다항인자"
   ]
  },
  {
   "cell_type": "code",
   "execution_count": null,
   "id": "aaf85771",
   "metadata": {},
   "outputs": [],
   "source": [
    "# *arg = tuple\n",
    "def multi_argument(*args):\n",
    "    print('length:', len(args))\n",
    "    print(type(args))\n",
    "    \n",
    "    total = 0\n",
    "    for arg in args:\n",
    "        print(arg)\n",
    "        total += arg\n",
    "    \n",
    "    print(total)\n",
    "        \n",
    "multi_argument(1,2,3,4,5)"
   ]
  },
  {
   "cell_type": "code",
   "execution_count": null,
   "id": "c390e4d7",
   "metadata": {},
   "outputs": [],
   "source": [
    "def multi_argument2(**args):\n",
    "    print('length:', len(args))\n",
    "    print(type(args))\n",
    "    \n",
    "    print(args)\n",
    "    \n",
    "    for arg in args.items():\n",
    "        print(arg)\n",
    "\n",
    "multi_argument2(name='Elias Kim', age=24)"
   ]
  },
  {
   "cell_type": "code",
   "execution_count": null,
   "id": "892fb90b",
   "metadata": {},
   "outputs": [],
   "source": [
    "def multi_argument3(arg, *arg_list, **arg_dict):\n",
    "    print(f'arg: {arg}')\n",
    "    print('-' * 20)\n",
    "    for _arg in arg_list:\n",
    "        print(f'arg_list: {_arg}')\n",
    "    print('-' * 20)\n",
    "    for _arg in arg_dict.items():\n",
    "        print(f'arg_dict: {_arg}')\n",
    "\n",
    "multi_argument3('single', 'a', 'b', 1, 2, name='Elias', age=24)"
   ]
  },
  {
   "cell_type": "markdown",
   "id": "753d4a7d",
   "metadata": {},
   "source": [
    "#### Yeild"
   ]
  },
  {
   "cell_type": "code",
   "execution_count": null,
   "id": "c29735e4",
   "metadata": {},
   "outputs": [],
   "source": [
    "def return_abc():\n",
    "    return list(\"ABC\")\n",
    "\n",
    "def yield_abc():\n",
    "    yield \"A\"\n",
    "    yield \"B\"\n",
    "    yield \"C\""
   ]
  },
  {
   "cell_type": "code",
   "execution_count": null,
   "id": "52739ac5",
   "metadata": {},
   "outputs": [],
   "source": [
    "data = return_abc()\n",
    "data"
   ]
  },
  {
   "cell_type": "code",
   "execution_count": null,
   "id": "ef594e39",
   "metadata": {},
   "outputs": [],
   "source": [
    "for i in data:\n",
    "    print(i)"
   ]
  },
  {
   "cell_type": "code",
   "execution_count": null,
   "id": "5eb64fa5",
   "metadata": {},
   "outputs": [],
   "source": [
    "for i in data:\n",
    "    print(i)"
   ]
  },
  {
   "cell_type": "code",
   "execution_count": null,
   "id": "89029fc7",
   "metadata": {},
   "outputs": [],
   "source": [
    "data2 = yield_abc()\n",
    "data2"
   ]
  },
  {
   "cell_type": "code",
   "execution_count": null,
   "id": "93132eca",
   "metadata": {},
   "outputs": [],
   "source": [
    "for i in data2:\n",
    "    print(i)"
   ]
  },
  {
   "cell_type": "code",
   "execution_count": null,
   "id": "625c30f7",
   "metadata": {},
   "outputs": [],
   "source": [
    "for i in data2:\n",
    "    print(i)"
   ]
  },
  {
   "cell_type": "code",
   "execution_count": null,
   "id": "6167b8b1",
   "metadata": {},
   "outputs": [],
   "source": [
    "import time"
   ]
  },
  {
   "cell_type": "code",
   "execution_count": null,
   "id": "edc8a768",
   "metadata": {},
   "outputs": [],
   "source": [
    "def delay_return_abc():\n",
    "    result = []\n",
    "    for i in range(5):\n",
    "        time.sleep(1)\n",
    "        result.append(i)\n",
    "    return result\n",
    "\n",
    "def delay_yield_abc():\n",
    "    for i in range(5):\n",
    "        time.sleep(1)\n",
    "        yield i"
   ]
  },
  {
   "cell_type": "code",
   "execution_count": null,
   "id": "17358444",
   "metadata": {},
   "outputs": [],
   "source": [
    "for i in delay_return_abc():\n",
    "    print(i)"
   ]
  },
  {
   "cell_type": "code",
   "execution_count": null,
   "id": "34756337",
   "metadata": {},
   "outputs": [],
   "source": [
    "for i in delay_yield_abc():\n",
    "    print(i)"
   ]
  },
  {
   "cell_type": "code",
   "execution_count": null,
   "id": "1bb50537",
   "metadata": {},
   "outputs": [],
   "source": [
    "# 메모리풀 발생\n",
    "def infinite_return():\n",
    "    result = []\n",
    "    while True:\n",
    "#         time.sleep(1)\n",
    "        result.append(\"HelloWorld\")"
   ]
  },
  {
   "cell_type": "code",
   "execution_count": null,
   "id": "2b5b051f",
   "metadata": {},
   "outputs": [],
   "source": [
    "# 메모리풀 발생하지 않음\n",
    "def infinite_yield():\n",
    "    while True:\n",
    "        time.sleep(1)\n",
    "        yield \"HelloWorld\""
   ]
  },
  {
   "cell_type": "code",
   "execution_count": null,
   "id": "d83419e0",
   "metadata": {},
   "outputs": [],
   "source": [
    "infinite_return()    "
   ]
  },
  {
   "cell_type": "code",
   "execution_count": null,
   "id": "52b70ad7",
   "metadata": {},
   "outputs": [],
   "source": [
    "for i in infinite_yield():\n",
    "    print(i)"
   ]
  },
  {
   "cell_type": "markdown",
   "id": "cf660c8f",
   "metadata": {},
   "source": [
    "#### generator vs list"
   ]
  },
  {
   "cell_type": "code",
   "execution_count": null,
   "id": "1e51539b",
   "metadata": {},
   "outputs": [],
   "source": [
    "dic_list = [{'name': 'kim', 'age': 20}, {'name': 'park', 'age':24}, {'name':'lee', 'age':21}]\n",
    "gen = [item['name'] for item in dic_list]\n",
    "type(gen)"
   ]
  },
  {
   "cell_type": "code",
   "execution_count": null,
   "id": "13d64644",
   "metadata": {},
   "outputs": [],
   "source": [
    "for name in gen:\n",
    "    print(name)"
   ]
  },
  {
   "cell_type": "code",
   "execution_count": null,
   "id": "85bf22fb",
   "metadata": {},
   "outputs": [],
   "source": [
    "for name in gen:\n",
    "    print(name)"
   ]
  },
  {
   "cell_type": "code",
   "execution_count": null,
   "id": "97321ba3",
   "metadata": {},
   "outputs": [],
   "source": [
    "dic_list = [{'name': 'kim', 'age': 20}, {'name': 'park', 'age':24}, {'name':'lee', 'age':21}]\n",
    "gen = (item['name'] for item in dic_list)\n",
    "type(gen)"
   ]
  },
  {
   "cell_type": "code",
   "execution_count": null,
   "id": "9725d548",
   "metadata": {},
   "outputs": [],
   "source": [
    "for name in gen:\n",
    "    print(name)"
   ]
  },
  {
   "cell_type": "code",
   "execution_count": null,
   "id": "7efc0dca",
   "metadata": {},
   "outputs": [],
   "source": [
    "for name in gen:\n",
    "    print(name)"
   ]
  },
  {
   "cell_type": "markdown",
   "id": "c941c22e",
   "metadata": {},
   "source": [
    "### map : 메소드와 데이터 연결"
   ]
  },
  {
   "cell_type": "code",
   "execution_count": null,
   "id": "71c5f288",
   "metadata": {},
   "outputs": [],
   "source": [
    "dic_list = [\n",
    "    {'name': 'kim', 'age': 15, 'gender':'male'}, \n",
    "    {'name': 'park', 'age':19, 'gender':'female'}, \n",
    "    {'name':'lee', 'age':21, 'gender':'male'}]\n",
    "\n",
    "def gender(person):\n",
    "    return f\"{person['name']} is {person['gender']} and {person['age']} years old.\""
   ]
  },
  {
   "cell_type": "code",
   "execution_count": null,
   "id": "a75c5c74",
   "metadata": {},
   "outputs": [],
   "source": [
    "map(gender, dic_list)"
   ]
  },
  {
   "cell_type": "code",
   "execution_count": null,
   "id": "c06c5716",
   "metadata": {},
   "outputs": [],
   "source": [
    "for person in map(gender, dic_list):\n",
    "    print(person)"
   ]
  },
  {
   "cell_type": "code",
   "execution_count": null,
   "id": "9c40a1c7",
   "metadata": {},
   "outputs": [],
   "source": [
    "person_list = list(map(gender, dic_list))\n",
    "person_list"
   ]
  },
  {
   "cell_type": "markdown",
   "id": "f7e4df5f",
   "metadata": {},
   "source": [
    "#### map with lambda method"
   ]
  },
  {
   "cell_type": "code",
   "execution_count": null,
   "id": "77b21469",
   "metadata": {},
   "outputs": [],
   "source": [
    "person_list = list(\n",
    "    map(\n",
    "        lambda person: f\"{person['name']} is {person['gender']} and {person['age']} years old.\", \n",
    "        dic_list))\n",
    "person_list"
   ]
  },
  {
   "cell_type": "code",
   "execution_count": null,
   "id": "a90709ef",
   "metadata": {},
   "outputs": [],
   "source": [
    "list(\n",
    "    map(\n",
    "        lambda x: \n",
    "        f\"{x['name']} is adult.\" if x['age'] > 20 \n",
    "        else f\"{x['name']} is not adult.\", \n",
    "    dic_list))"
   ]
  },
  {
   "cell_type": "markdown",
   "id": "192a7636",
   "metadata": {},
   "source": [
    "#### 그러면 여자들만 뽑으려면?"
   ]
  },
  {
   "cell_type": "code",
   "execution_count": null,
   "id": "09b68246",
   "metadata": {},
   "outputs": [],
   "source": [
    "def only_female(person):\n",
    "    if person['gender'] == 'female':\n",
    "        return f\"{person['name']} is {person['gender']} and {person['age']} years old.\"\n",
    "    else:\n",
    "        return None"
   ]
  },
  {
   "cell_type": "code",
   "execution_count": null,
   "id": "c3b0cccc",
   "metadata": {},
   "outputs": [],
   "source": [
    "# 여자가 아닌 데이터도 None으로 넘어옴\n",
    "person_list = list(map(only_female, dic_list))\n",
    "person_list"
   ]
  },
  {
   "cell_type": "code",
   "execution_count": null,
   "id": "9aa411fe",
   "metadata": {},
   "outputs": [],
   "source": [
    "# 여자인 데이터만 넘어옴\n",
    "person_list = list(filter(only_female, dic_list))\n",
    "person_list"
   ]
  },
  {
   "cell_type": "code",
   "execution_count": null,
   "id": "074bad8f",
   "metadata": {},
   "outputs": [],
   "source": [
    "# lambda 사용 (True인 데이터만 넘어옴)\n",
    "female_list = list(\n",
    "    filter(\n",
    "        lambda person: person['gender'] == 'female', \n",
    "        dic_list))\n",
    "female_list"
   ]
  },
  {
   "cell_type": "code",
   "execution_count": null,
   "id": "13a6bd77",
   "metadata": {},
   "outputs": [],
   "source": [
    "a = [100, 2, 8, 60, 5, 4, 3, 31, 10, 11]\n",
    " \n",
    "# 람다함수와 filter를 쓰게되면 람다식내의 True인 데이터만 list로 생성\n",
    "filtered = filter (lambda x: x % 2 == 0, a)\n",
    "print(list(filtered))\n",
    " \n",
    "# 람다함수와 map을 쓰게되면 lambda의 결과값을 list로 생성\n",
    "mapped = map (lambda x: x % 2 == 0, a)\n",
    "print(list(mapped))"
   ]
  },
  {
   "cell_type": "markdown",
   "id": "481f2df9",
   "metadata": {},
   "source": [
    "### Deque in collections"
   ]
  },
  {
   "cell_type": "code",
   "execution_count": null,
   "id": "773af858",
   "metadata": {},
   "outputs": [],
   "source": [
    "from collections import deque\n",
    "     \n",
    "# Declaring deque\n",
    "queue = deque(['name','age','DOB']) \n",
    "queue"
   ]
  },
  {
   "cell_type": "code",
   "execution_count": null,
   "id": "25e68424",
   "metadata": {},
   "outputs": [],
   "source": [
    "queue.append('height')\n",
    "queue"
   ]
  },
  {
   "cell_type": "code",
   "execution_count": null,
   "id": "6e83cc86",
   "metadata": {},
   "outputs": [],
   "source": [
    "queue.appendleft('id')\n",
    "queue"
   ]
  },
  {
   "cell_type": "code",
   "execution_count": null,
   "id": "1bd14add",
   "metadata": {},
   "outputs": [],
   "source": [
    "queue.pop()\n",
    "queue"
   ]
  },
  {
   "cell_type": "code",
   "execution_count": null,
   "id": "3af02e51",
   "metadata": {},
   "outputs": [],
   "source": [
    "queue.popleft()\n",
    "queue"
   ]
  },
  {
   "cell_type": "markdown",
   "id": "fbec42de",
   "metadata": {},
   "source": [
    "### Comprehension"
   ]
  },
  {
   "cell_type": "code",
   "execution_count": null,
   "id": "46a6fdb3",
   "metadata": {},
   "outputs": [],
   "source": [
    "# Normal List\n",
    "person_list = list(\n",
    "    map(\n",
    "        lambda person: f\"{person['name']} is {person['gender']} and {person['age']} years old.\", \n",
    "        dic_list))\n",
    "person_list"
   ]
  },
  {
   "cell_type": "code",
   "execution_count": null,
   "id": "d13c2f28",
   "metadata": {},
   "outputs": [],
   "source": [
    "# Comprehension\n",
    "person_list = [f\"{person['name']} is {person['gender']} and {person['age']} years old.\" for person in dic_list]\n",
    "person_list"
   ]
  },
  {
   "cell_type": "code",
   "execution_count": null,
   "id": "53d2a124",
   "metadata": {},
   "outputs": [],
   "source": [
    "phone_list = [' 010-333-1131 ', '010,222,1111', '010 3213 1311']\n",
    "\n",
    "new_list = []\n",
    "for phone in phone_list:\n",
    "    phone = phone.strip().replace('-', '').replace(',', '').replace(' ', '')\n",
    "    new_list.append(phone)\n",
    "\n",
    "clear_phone_number = [phone.strip().replace('-', '').replace(',', '').replace(' ', '') for phone in phone_list]\n",
    "clear_phone_number"
   ]
  },
  {
   "cell_type": "code",
   "execution_count": null,
   "id": "32591949",
   "metadata": {},
   "outputs": [],
   "source": [
    "person_list = (f\"{person['name']} is {person['gender']} and {person['age']} years old.\" for person in dic_list)\n",
    "for person in person_list:\n",
    "    print(person)"
   ]
  },
  {
   "cell_type": "code",
   "execution_count": null,
   "id": "f710439c",
   "metadata": {},
   "outputs": [],
   "source": [
    "# Normal List with Lambda condition\n",
    "list(\n",
    "    map(\n",
    "        lambda x: \n",
    "        f\"{x['name']} is adult.\" if x['age'] > 20 \n",
    "        else f\"{x['name']} is not adult.\", \n",
    "    dic_list))"
   ]
  },
  {
   "cell_type": "code",
   "execution_count": null,
   "id": "78b6e929",
   "metadata": {},
   "outputs": [],
   "source": [
    "# Comprehension with Labmda condition\n",
    "person_list = [f\"{person['name']} is {person['gender']} and {person['age']} years old.\" for person in dic_list if person['age'] > 20]\n",
    "person_list"
   ]
  },
  {
   "cell_type": "markdown",
   "id": "02239148",
   "metadata": {},
   "source": [
    "#### List Comprehension"
   ]
  },
  {
   "cell_type": "code",
   "execution_count": null,
   "id": "15555a40",
   "metadata": {},
   "outputs": [],
   "source": [
    "# 20까지의 짝수를 출력하기 위해 다음과 같은 LC를 사용할 수 있다\n",
    "evens = [x * 2 for x in range(11)]\n",
    "evens"
   ]
  },
  {
   "cell_type": "code",
   "execution_count": null,
   "id": "864abdf6",
   "metadata": {},
   "outputs": [],
   "source": [
    "# 리스트의 모든 원소값을 정규화 시킨 후 상수값을 더하는 LC\n",
    "vals = [32, 12, 96, 42, 32, 93, 31, 23, 65, 43, 76]\n",
    "amount = sum(vals)\n",
    "norm_and_move = [(x / amount) + 1 for x in vals]\n",
    "norm_and_move"
   ]
  },
  {
   "cell_type": "code",
   "execution_count": null,
   "id": "92144879",
   "metadata": {},
   "outputs": [],
   "source": [
    "# 100 이하의 제곱수가 아닌 수를 찾는 LC\n",
    "from math import sqrt\n",
    "non_squars = [x for x in range(50) if sqrt(x)**2 != x]\n",
    "print(non_squars)"
   ]
  },
  {
   "cell_type": "code",
   "execution_count": null,
   "id": "d5cc6094",
   "metadata": {},
   "outputs": [],
   "source": [
    "# 두 리스트의 원소들의 모든 조합을 찾는 LC\n",
    "epithets = ['sweet', 'annoying', 'cool', 'grey-eyed']\n",
    "names = ['john', 'alice', 'james']\n",
    "epithet_names = [\n",
    "    (e, n) \n",
    "    for e in epithets \n",
    "    for n in names]\n",
    "epithet_names"
   ]
  },
  {
   "cell_type": "code",
   "execution_count": null,
   "id": "bec9f07f",
   "metadata": {},
   "outputs": [],
   "source": [
    "# a^2 + b^2 = c^2 (a < b < c)를 만족하는 피타고라스 방정식의 해를 찾는 LC\n",
    "solutions = [\n",
    "    (x, y, z) \n",
    "    for x in range(1, 30)\n",
    "    for y in range(x, 30) \n",
    "    for z in range(y, 30) \n",
    "    if x**2 + y**2 == z**2]\n",
    "solutions"
   ]
  },
  {
   "cell_type": "code",
   "execution_count": null,
   "id": "d875920c",
   "metadata": {},
   "outputs": [],
   "source": [
    "# 단어에서 모음을 제거하는 LC\n",
    "word = 'mathematics'\n",
    "without_vowels = ''.join([\n",
    "    c \n",
    "    for c in word \n",
    "    if c not in ['a', 'e', 'i', 'o', 'u']])\n",
    "without_vowels"
   ]
  },
  {
   "cell_type": "code",
   "execution_count": null,
   "id": "a85f675a",
   "metadata": {},
   "outputs": [],
   "source": [
    "# 행렬을 일차원화 시키는 LC\n",
    "matrix = [\n",
    "  [1, 2, 3, 4],\n",
    "  [5, 6, 7, 8],\n",
    "  [9, 10, 11, 12],\n",
    "]\n",
    "flatten = [e \n",
    "           for r in matrix # r = [1,2,3,4] , [5,6,7,8]\n",
    "           for e in r] # e = 1, 2, 3, 4\n",
    "flatten"
   ]
  },
  {
   "cell_type": "code",
   "execution_count": null,
   "id": "3e74e766",
   "metadata": {},
   "outputs": [],
   "source": [
    "!pip install numpy"
   ]
  },
  {
   "cell_type": "code",
   "execution_count": null,
   "id": "a4e3149e",
   "metadata": {},
   "outputs": [],
   "source": [
    "import numpy as np"
   ]
  },
  {
   "cell_type": "code",
   "execution_count": null,
   "id": "58c5bf1c",
   "metadata": {},
   "outputs": [],
   "source": [
    "np_matrix = np.array(matrix)\n",
    "np_matrix"
   ]
  },
  {
   "cell_type": "code",
   "execution_count": null,
   "id": "1e857117",
   "metadata": {},
   "outputs": [],
   "source": [
    "np.ravel(np_matrix).tolist()"
   ]
  },
  {
   "cell_type": "markdown",
   "id": "ee9d4d87",
   "metadata": {},
   "source": [
    "#### Set Comprehension"
   ]
  },
  {
   "cell_type": "code",
   "execution_count": null,
   "id": "7d87df69",
   "metadata": {},
   "outputs": [],
   "source": [
    "# 다음의 LC는 중복된 값들을 포함한다\n",
    "no_primes = [j \n",
    "             for i in range(2, 9) \n",
    "             for j in range(i * 2, 15, i)]\n",
    "no_primes"
   ]
  },
  {
   "cell_type": "code",
   "execution_count": null,
   "id": "d451a085",
   "metadata": {},
   "outputs": [],
   "source": [
    "# SC를 사용하면 중복값이 없는 집합을 얻을 수 있다\n",
    "no_primes = {j \n",
    "             for i in range(2, 9) \n",
    "             for j in range(i * 2, 15, i)}\n",
    "no_primes"
   ]
  },
  {
   "cell_type": "markdown",
   "id": "2546bc03",
   "metadata": {},
   "source": [
    "#### Dictionary Comprehension"
   ]
  },
  {
   "cell_type": "code",
   "execution_count": null,
   "id": "1791b0d9",
   "metadata": {},
   "outputs": [],
   "source": [
    "# 두 리스트를 하나의 dict로 합치는 DC. 하나는 key, 또 다른 하나는 value로 사용한다\n",
    "subjects = ['math', 'history', 'english', 'computer engineering']\n",
    "scores = [90, 80, 95, 100]\n",
    "score_dict = {\n",
    "    key: value \n",
    "    for key, value in zip(subjects, scores)}\n",
    "score_dict"
   ]
  },
  {
   "cell_type": "code",
   "execution_count": null,
   "id": "edb7f7fb",
   "metadata": {},
   "outputs": [],
   "source": [
    "dict(zip(subjects, scores))"
   ]
  },
  {
   "cell_type": "code",
   "execution_count": null,
   "id": "f4bed1e6",
   "metadata": {},
   "outputs": [],
   "source": [
    "# 튜플 리스트를 dict 형태로 변환하는 DC\n",
    "score_tuples = [('math', 90), ('history', 80), ('english', 95), ('computer engineering', 100)]\n",
    "score_dict = {t[0]: t[1] for t in score_tuples}\n",
    "score_dict"
   ]
  },
  {
   "cell_type": "code",
   "execution_count": null,
   "id": "599cc245",
   "metadata": {},
   "outputs": [],
   "source": [
    "dict(score_tuples)"
   ]
  },
  {
   "cell_type": "markdown",
   "id": "15fbcfa8",
   "metadata": {},
   "source": [
    "#### Generator Expression"
   ]
  },
  {
   "cell_type": "code",
   "execution_count": null,
   "id": "4948d476",
   "metadata": {},
   "outputs": [],
   "source": [
    "# 다음 Generator는 제곱수를 만들어낸다\n",
    "gen = (x**2 for x in range(3))\n",
    "gen"
   ]
  },
  {
   "cell_type": "code",
   "execution_count": null,
   "id": "c0bc74ad",
   "metadata": {},
   "outputs": [],
   "source": [
    "next(gen)"
   ]
  },
  {
   "cell_type": "code",
   "execution_count": null,
   "id": "4f051508",
   "metadata": {},
   "outputs": [],
   "source": [
    "next(gen)"
   ]
  },
  {
   "cell_type": "code",
   "execution_count": null,
   "id": "0d6ed164",
   "metadata": {},
   "outputs": [],
   "source": [
    "next(gen)"
   ]
  },
  {
   "cell_type": "code",
   "execution_count": null,
   "id": "a85ea587",
   "metadata": {},
   "outputs": [],
   "source": [
    "next(gen)"
   ]
  },
  {
   "cell_type": "code",
   "execution_count": null,
   "id": "d89d3779",
   "metadata": {},
   "outputs": [],
   "source": [
    "# Yes, it is an just generator. You can sum the yielding values.\n",
    "# GE로 생성한 Generator도 yield를 가진 함수로 생성한 것과 동일한 Generator이기 때문에, 똑같이 sum을 사용할 수 있다. (iterable 객체)\n",
    "gen = (x**2 for x in range(10))\n",
    "sum_of_squares = sum(gen)\n",
    "sum_of_squares"
   ]
  },
  {
   "cell_type": "markdown",
   "id": "6021bde4",
   "metadata": {},
   "source": [
    "### Class"
   ]
  },
  {
   "cell_type": "code",
   "execution_count": null,
   "id": "d2ee8d9f",
   "metadata": {},
   "outputs": [],
   "source": [
    "class Calc:\n",
    "    def add(self, a, b):\n",
    "        return a + b\n",
    "    \n",
    "    def minus(self, a, b):\n",
    "        return a - b\n",
    "    \n",
    "    def multi(self, a, b):\n",
    "        return a * b\n",
    "    \n",
    "    def devide(self, a, b):\n",
    "        return a / b"
   ]
  },
  {
   "cell_type": "code",
   "execution_count": null,
   "id": "2f5f6568",
   "metadata": {},
   "outputs": [],
   "source": [
    "myCal = Calc()\n",
    "\n",
    "print(myCal.add(4, 2))\n",
    "print(myCal.minus(4, 2))\n",
    "print(myCal.multi(4, 2))\n",
    "print(myCal.devide(4, 2))"
   ]
  },
  {
   "cell_type": "markdown",
   "id": "ba8bb5a9",
   "metadata": {},
   "source": [
    "#### 생성자 : 클래스의 객체가 생성되는 순간 호출되는 메소드"
   ]
  },
  {
   "cell_type": "code",
   "execution_count": null,
   "id": "60132449",
   "metadata": {},
   "outputs": [],
   "source": [
    "class Person:\n",
    "    name = 'a'\n",
    "    age = 1\n",
    "    address = 'b'\n",
    "    \n",
    "    # 멤버변수의 초기화\n",
    "    def __init__(self, name='', age=0, address=''):\n",
    "        self.name = name\n",
    "        self.age = age\n",
    "        self.address = address\n",
    "        \n",
    "    def set_info(self, name, age, address):\n",
    "        self.name = name\n",
    "        self.age = age\n",
    "        self.address = address\n",
    "        \n",
    "    def info(self):\n",
    "        print(f'Name:{self.name}, Age:{self.age}, Address:{self.address}')"
   ]
  },
  {
   "cell_type": "code",
   "execution_count": null,
   "id": "5a5822bb",
   "metadata": {},
   "outputs": [],
   "source": [
    "person_a = Person('Kim', 20, 'Seoul')\n",
    "person_a.info()"
   ]
  },
  {
   "cell_type": "code",
   "execution_count": null,
   "id": "4aa31fc7",
   "metadata": {},
   "outputs": [],
   "source": [
    "person_b = Person()\n",
    "person_b.info()\n",
    "person_b.set_info('Park', 20, 'Pusan')\n",
    "person_b.info()"
   ]
  },
  {
   "cell_type": "markdown",
   "id": "a27fb85a",
   "metadata": {},
   "source": [
    "#### 상속 (생성자&소멸자)"
   ]
  },
  {
   "cell_type": "code",
   "execution_count": null,
   "id": "ff9f4cd7",
   "metadata": {},
   "outputs": [],
   "source": [
    "class Animal:\n",
    "    name = ''\n",
    "    gender = ''\n",
    "    \n",
    "    def __init__(self, name, gender):\n",
    "        self.name = name\n",
    "        self.gender = gender\n",
    "        \n",
    "    def say(self):\n",
    "        print('Ah~')\n",
    "        \n",
    "    def info(self):\n",
    "        print(f'Name: {self.name}, Gender: {self.gender}')\n",
    "        \n",
    "class Dog(Animal):\n",
    "    fur_color = ''\n",
    "    \n",
    "    def __init__(self, name, gender, fur_color):\n",
    "        super().__init__(name, gender)\n",
    "#         Animal.__init__(self, name, gender)\n",
    "        self.fur_color = fur_color\n",
    "        \n",
    "    def info(self):\n",
    "        super().info()\n",
    "#         Animal.info(self)\n",
    "        print(f'Fur Color: {self.fur_color}')\n",
    "    \n",
    "    def say(self):\n",
    "        print('MungMung~')\n",
    "        \n",
    "    def __del__(self):\n",
    "        print(\"I'm gone\")\n",
    "        \n",
    "class Cat(Animal):    \n",
    "    eye_color = ''\n",
    "    \n",
    "    def __init__(self, name, gender, eye_color):\n",
    "        self.name = name\n",
    "        self.gender = gender\n",
    "        self.eye_color = eye_color\n",
    "    \n",
    "    def info(self):\n",
    "        print(f'Name: {self.name}, Gender: {self.gender}, EyeColor: {self.eye_color}')\n",
    "    \n",
    "    def say(self):\n",
    "        print('Yaong~')"
   ]
  },
  {
   "cell_type": "code",
   "execution_count": null,
   "id": "440d0285",
   "metadata": {},
   "outputs": [],
   "source": [
    "animal = Animal('Dongmul', 'Male')\n",
    "animal.info()\n",
    "animal.say()"
   ]
  },
  {
   "cell_type": "code",
   "execution_count": null,
   "id": "2e497fea",
   "metadata": {},
   "outputs": [],
   "source": [
    "dog = Dog('Baduk', 'Male', 'Black')\n",
    "dog.info()\n",
    "dog.say()"
   ]
  },
  {
   "cell_type": "code",
   "execution_count": null,
   "id": "84d2b669",
   "metadata": {},
   "outputs": [],
   "source": [
    "cat = Cat('Nabi', 'Female', 'Brown')\n",
    "cat.info()\n",
    "cat.say()"
   ]
  },
  {
   "cell_type": "code",
   "execution_count": null,
   "id": "dc40ffe6",
   "metadata": {},
   "outputs": [],
   "source": [
    "del dog"
   ]
  },
  {
   "cell_type": "markdown",
   "id": "2e33ede9",
   "metadata": {},
   "source": [
    "#### 클래스 변수, 메소드 / 정적 메소드"
   ]
  },
  {
   "cell_type": "code",
   "execution_count": null,
   "id": "55ec27a3",
   "metadata": {},
   "outputs": [],
   "source": [
    "class color:\n",
    "    BLACK = 0\n",
    "    RED = 1"
   ]
  },
  {
   "cell_type": "code",
   "execution_count": null,
   "id": "02c9cd5a",
   "metadata": {},
   "outputs": [],
   "source": [
    "color.RED"
   ]
  },
  {
   "cell_type": "code",
   "execution_count": null,
   "id": "cb988cc7",
   "metadata": {},
   "outputs": [],
   "source": [
    "class Calc:\n",
    "    @classmethod\n",
    "    def add(a, b):\n",
    "        return a+b"
   ]
  },
  {
   "cell_type": "code",
   "execution_count": null,
   "id": "8e518640",
   "metadata": {},
   "outputs": [],
   "source": [
    "Calc.add()\n",
    "Calc.minus()"
   ]
  },
  {
   "cell_type": "code",
   "execution_count": null,
   "id": "9750b8ab",
   "metadata": {},
   "outputs": [],
   "source": []
  },
  {
   "cell_type": "code",
   "execution_count": null,
   "id": "51214657",
   "metadata": {},
   "outputs": [],
   "source": [
    "class math:\n",
    "    class_pi = 3.14\n",
    "    \n",
    "    def __init__(self):\n",
    "        self.pi = 3.14\n",
    "        \n",
    "    @classmethod\n",
    "    def class_add(self, a, b):\n",
    "        self.class_pi\n",
    "        self.add\n",
    "        return a+b\n",
    "    \n",
    "    @staticmethod\n",
    "    def static_add(a, b):\n",
    "        self.class_pi\n",
    "        self.add\n",
    "        return a+b\n",
    "        \n",
    "    def add(self, a, b):\n",
    "        return a+b"
   ]
  },
  {
   "cell_type": "code",
   "execution_count": null,
   "id": "5df9bdd8",
   "metadata": {},
   "outputs": [],
   "source": [
    "math.class_pi"
   ]
  },
  {
   "cell_type": "code",
   "execution_count": null,
   "id": "91d668aa",
   "metadata": {},
   "outputs": [],
   "source": [
    "Math.class_add(1,2)"
   ]
  },
  {
   "cell_type": "code",
   "execution_count": null,
   "id": "08c5cfc2",
   "metadata": {},
   "outputs": [],
   "source": [
    "Math.static_add(1,2)"
   ]
  },
  {
   "cell_type": "code",
   "execution_count": null,
   "id": "1b601b82",
   "metadata": {},
   "outputs": [],
   "source": [
    "Math.pi"
   ]
  },
  {
   "cell_type": "code",
   "execution_count": null,
   "id": "46cba051",
   "metadata": {},
   "outputs": [],
   "source": [
    "Math.add(1, 2)"
   ]
  },
  {
   "cell_type": "code",
   "execution_count": null,
   "id": "a2143cf0",
   "metadata": {},
   "outputs": [],
   "source": [
    "math = Math()\n",
    "print(math.pi)\n",
    "print(math.add(1,2))"
   ]
  },
  {
   "cell_type": "code",
   "execution_count": null,
   "id": "5d104b53",
   "metadata": {},
   "outputs": [],
   "source": [
    "print(math.class_add(1,2))\n",
    "print(math.static_add(1,2))"
   ]
  },
  {
   "cell_type": "code",
   "execution_count": null,
   "id": "b1c1eebf",
   "metadata": {},
   "outputs": [],
   "source": [
    "Math.static_pi = 10\n",
    "Math.static_pi"
   ]
  },
  {
   "cell_type": "code",
   "execution_count": null,
   "id": "a9b9700c",
   "metadata": {},
   "outputs": [],
   "source": [
    "Math.class_add(1,2)"
   ]
  },
  {
   "cell_type": "code",
   "execution_count": null,
   "id": "d244b963",
   "metadata": {},
   "outputs": [],
   "source": [
    "Math.class_add = lambda x, y: x-y\n",
    "Math.class_add(4, 2)"
   ]
  },
  {
   "cell_type": "code",
   "execution_count": null,
   "id": "fa3def9a",
   "metadata": {},
   "outputs": [],
   "source": [
    "Math.static_add = lambda x, y: x*y\n",
    "Math.static_add(4, 2)"
   ]
  },
  {
   "cell_type": "code",
   "execution_count": null,
   "id": "ab64d69f",
   "metadata": {},
   "outputs": [],
   "source": []
  }
 ],
 "metadata": {
  "kernelspec": {
   "display_name": "Python 3 (ipykernel)",
   "language": "python",
   "name": "python3"
  },
  "language_info": {
   "codemirror_mode": {
    "name": "ipython",
    "version": 3
   },
   "file_extension": ".py",
   "mimetype": "text/x-python",
   "name": "python",
   "nbconvert_exporter": "python",
   "pygments_lexer": "ipython3",
   "version": "3.9.4"
  }
 },
 "nbformat": 4,
 "nbformat_minor": 5
}
